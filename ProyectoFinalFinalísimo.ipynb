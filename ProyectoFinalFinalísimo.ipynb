{
 "cells": [
  {
   "cell_type": "code",
   "execution_count": 1,
   "metadata": {},
   "outputs": [],
   "source": [
    "\"\"\"\n",
    "NUEVOS DATOS\n",
    "\"\"\"\n",
    "import pandas as pd\n",
    "import numpy as np\n",
    "import time\n",
    "from plotly.subplots import make_subplots\n",
    "import plotly.graph_objects as go"
   ]
  },
  {
   "cell_type": "code",
   "execution_count": 102,
   "metadata": {},
   "outputs": [
    {
     "data": {
      "text/html": [
       "<div>\n",
       "<style scoped>\n",
       "    .dataframe tbody tr th:only-of-type {\n",
       "        vertical-align: middle;\n",
       "    }\n",
       "\n",
       "    .dataframe tbody tr th {\n",
       "        vertical-align: top;\n",
       "    }\n",
       "\n",
       "    .dataframe thead th {\n",
       "        text-align: right;\n",
       "    }\n",
       "</style>\n",
       "<table border=\"1\" class=\"dataframe\">\n",
       "  <thead>\n",
       "    <tr style=\"text-align: right;\">\n",
       "      <th></th>\n",
       "      <th>CustomerId</th>\n",
       "      <th>brand</th>\n",
       "      <th>size</th>\n",
       "      <th>week</th>\n",
       "      <th>Sales</th>\n",
       "    </tr>\n",
       "  </thead>\n",
       "  <tbody>\n",
       "    <tr>\n",
       "      <th>0</th>\n",
       "      <td>500277171</td>\n",
       "      <td>CIEL EXPRIM</td>\n",
       "      <td>INDIVIDUAL</td>\n",
       "      <td>202018</td>\n",
       "      <td>1.056700</td>\n",
       "    </tr>\n",
       "    <tr>\n",
       "      <th>1</th>\n",
       "      <td>500254405</td>\n",
       "      <td>COCA-COLA</td>\n",
       "      <td>FAMILIAR</td>\n",
       "      <td>202018</td>\n",
       "      <td>60.584799</td>\n",
       "    </tr>\n",
       "    <tr>\n",
       "      <th>2</th>\n",
       "      <td>500255970</td>\n",
       "      <td>JOYA</td>\n",
       "      <td>FAMILIAR</td>\n",
       "      <td>202018</td>\n",
       "      <td>35.223399</td>\n",
       "    </tr>\n",
       "    <tr>\n",
       "      <th>3</th>\n",
       "      <td>500256780</td>\n",
       "      <td>TOPO CHICO A.M.</td>\n",
       "      <td>FAMILIAR</td>\n",
       "      <td>202018</td>\n",
       "      <td>3.170200</td>\n",
       "    </tr>\n",
       "    <tr>\n",
       "      <th>4</th>\n",
       "      <td>500260292</td>\n",
       "      <td>COCA-COLA LIGHT</td>\n",
       "      <td>INDIVIDUAL</td>\n",
       "      <td>202018</td>\n",
       "      <td>6.340500</td>\n",
       "    </tr>\n",
       "  </tbody>\n",
       "</table>\n",
       "</div>"
      ],
      "text/plain": [
       "   CustomerId            brand        size    week      Sales\n",
       "0   500277171      CIEL EXPRIM  INDIVIDUAL  202018   1.056700\n",
       "1   500254405        COCA-COLA    FAMILIAR  202018  60.584799\n",
       "2   500255970             JOYA    FAMILIAR  202018  35.223399\n",
       "3   500256780  TOPO CHICO A.M.    FAMILIAR  202018   3.170200\n",
       "4   500260292  COCA-COLA LIGHT  INDIVIDUAL  202018   6.340500"
      ]
     },
     "execution_count": 102,
     "metadata": {},
     "output_type": "execute_result"
    }
   ],
   "source": [
    "df = pd.read_csv('DatosActualizados.csv')\n",
    "df.head()"
   ]
  },
  {
   "cell_type": "markdown",
   "metadata": {},
   "source": [
    "# Análisis Exploratorio"
   ]
  },
  {
   "cell_type": "code",
   "execution_count": 103,
   "metadata": {},
   "outputs": [
    {
     "data": {
      "text/plain": [
       "(814111, 5)"
      ]
     },
     "execution_count": 103,
     "metadata": {},
     "output_type": "execute_result"
    }
   ],
   "source": [
    "df.shape"
   ]
  },
  {
   "cell_type": "code",
   "execution_count": 104,
   "metadata": {},
   "outputs": [
    {
     "data": {
      "text/plain": [
       "array(['CIEL EXPRIM', 'COCA-COLA', 'JOYA', 'TOPO CHICO A.M.',\n",
       "       'COCA-COLA LIGHT', 'COCA-COLA SIN AZÚCAR', 'DEL VALLE Y NADA',\n",
       "       'VALLE FRUT', 'SPRITE', 'FANTA', 'FRESCA', 'POWERADE',\n",
       "       'CIEL AGUA PURIFICADA', 'COCA-COLA ENERGY', 'SIDRAL MUNDET',\n",
       "       'FUZE TEA', 'TOPO CHICO SANGRIA LIGHT', 'DELAWARE PUNCH', 'MIXTOS',\n",
       "       'PULPY', 'COCA-COLA CAFÉ', 'FRUTSI', 'DEL VALLE', 'TOPO CHICO',\n",
       "       'SIERRAZUL AGUA PURIFICADA', 'SANTA CLARA SABORIZADA',\n",
       "       'COCA-COLA LIGHT SIN CAFEINA', 'MONSTER ENERGY',\n",
       "       'TOPO CHICO SANGRÍA', 'SPRITE SIN AZÚCAR', 'SENZAO', 'ADES FRUTAL',\n",
       "       'MANZANA LIFT', 'DEL VALLE RESERVA', 'CIEL MINI',\n",
       "       'CIEL MINERALIZADA', 'GLACÉAU', 'SANTA CLARA DESLACTOSADA',\n",
       "       'SANTA CLARA ENTERA', 'SANTA CLARA LIGHT', 'ISOLITE',\n",
       "       'SANTA CLARA DESLACTOSADA LIGHT', 'ADES LÁCTEO', 'CAFÉ BLAK',\n",
       "       'SANTA CLARA SEMIDESCREMADA'], dtype=object)"
      ]
     },
     "execution_count": 104,
     "metadata": {},
     "output_type": "execute_result"
    }
   ],
   "source": [
    "df.brand.unique()"
   ]
  },
  {
   "cell_type": "code",
   "execution_count": 105,
   "metadata": {},
   "outputs": [
    {
     "data": {
      "text/plain": [
       "45"
      ]
     },
     "execution_count": 105,
     "metadata": {},
     "output_type": "execute_result"
    }
   ],
   "source": [
    "len(df.brand.unique())"
   ]
  },
  {
   "cell_type": "code",
   "execution_count": 106,
   "metadata": {},
   "outputs": [
    {
     "data": {
      "text/plain": [
       "array([202018, 202019, 202020, 202021], dtype=int64)"
      ]
     },
     "execution_count": 106,
     "metadata": {},
     "output_type": "execute_result"
    }
   ],
   "source": [
    "df['week'].unique()"
   ]
  },
  {
   "cell_type": "code",
   "execution_count": 107,
   "metadata": {},
   "outputs": [],
   "source": [
    "dfTemp = df\n",
    "dfTemp[\"product\"] = dfTemp[\"brand\"] + \" \" + dfTemp['size']"
   ]
  },
  {
   "cell_type": "code",
   "execution_count": 108,
   "metadata": {},
   "outputs": [
    {
     "data": {
      "text/html": [
       "<div>\n",
       "<style scoped>\n",
       "    .dataframe tbody tr th:only-of-type {\n",
       "        vertical-align: middle;\n",
       "    }\n",
       "\n",
       "    .dataframe tbody tr th {\n",
       "        vertical-align: top;\n",
       "    }\n",
       "\n",
       "    .dataframe thead th {\n",
       "        text-align: right;\n",
       "    }\n",
       "</style>\n",
       "<table border=\"1\" class=\"dataframe\">\n",
       "  <thead>\n",
       "    <tr style=\"text-align: right;\">\n",
       "      <th></th>\n",
       "      <th>CustomerId</th>\n",
       "      <th>brand</th>\n",
       "      <th>size</th>\n",
       "      <th>week</th>\n",
       "      <th>Sales</th>\n",
       "      <th>product</th>\n",
       "    </tr>\n",
       "  </thead>\n",
       "  <tbody>\n",
       "    <tr>\n",
       "      <th>0</th>\n",
       "      <td>500277171</td>\n",
       "      <td>CIEL EXPRIM</td>\n",
       "      <td>INDIVIDUAL</td>\n",
       "      <td>202018</td>\n",
       "      <td>1.056700</td>\n",
       "      <td>CIEL EXPRIM INDIVIDUAL</td>\n",
       "    </tr>\n",
       "    <tr>\n",
       "      <th>1</th>\n",
       "      <td>500254405</td>\n",
       "      <td>COCA-COLA</td>\n",
       "      <td>FAMILIAR</td>\n",
       "      <td>202018</td>\n",
       "      <td>60.584799</td>\n",
       "      <td>COCA-COLA FAMILIAR</td>\n",
       "    </tr>\n",
       "    <tr>\n",
       "      <th>2</th>\n",
       "      <td>500255970</td>\n",
       "      <td>JOYA</td>\n",
       "      <td>FAMILIAR</td>\n",
       "      <td>202018</td>\n",
       "      <td>35.223399</td>\n",
       "      <td>JOYA FAMILIAR</td>\n",
       "    </tr>\n",
       "    <tr>\n",
       "      <th>3</th>\n",
       "      <td>500256780</td>\n",
       "      <td>TOPO CHICO A.M.</td>\n",
       "      <td>FAMILIAR</td>\n",
       "      <td>202018</td>\n",
       "      <td>3.170200</td>\n",
       "      <td>TOPO CHICO A.M. FAMILIAR</td>\n",
       "    </tr>\n",
       "    <tr>\n",
       "      <th>4</th>\n",
       "      <td>500260292</td>\n",
       "      <td>COCA-COLA LIGHT</td>\n",
       "      <td>INDIVIDUAL</td>\n",
       "      <td>202018</td>\n",
       "      <td>6.340500</td>\n",
       "      <td>COCA-COLA LIGHT INDIVIDUAL</td>\n",
       "    </tr>\n",
       "  </tbody>\n",
       "</table>\n",
       "</div>"
      ],
      "text/plain": [
       "   CustomerId            brand        size    week      Sales  \\\n",
       "0   500277171      CIEL EXPRIM  INDIVIDUAL  202018   1.056700   \n",
       "1   500254405        COCA-COLA    FAMILIAR  202018  60.584799   \n",
       "2   500255970             JOYA    FAMILIAR  202018  35.223399   \n",
       "3   500256780  TOPO CHICO A.M.    FAMILIAR  202018   3.170200   \n",
       "4   500260292  COCA-COLA LIGHT  INDIVIDUAL  202018   6.340500   \n",
       "\n",
       "                      product  \n",
       "0      CIEL EXPRIM INDIVIDUAL  \n",
       "1          COCA-COLA FAMILIAR  \n",
       "2               JOYA FAMILIAR  \n",
       "3    TOPO CHICO A.M. FAMILIAR  \n",
       "4  COCA-COLA LIGHT INDIVIDUAL  "
      ]
     },
     "execution_count": 108,
     "metadata": {},
     "output_type": "execute_result"
    }
   ],
   "source": [
    "dfTemp.head()"
   ]
  },
  {
   "cell_type": "code",
   "execution_count": 109,
   "metadata": {},
   "outputs": [
    {
     "data": {
      "text/plain": [
       "(814111, 6)"
      ]
     },
     "execution_count": 109,
     "metadata": {},
     "output_type": "execute_result"
    }
   ],
   "source": [
    "dfTemp.shape"
   ]
  },
  {
   "cell_type": "code",
   "execution_count": 110,
   "metadata": {},
   "outputs": [
    {
     "name": "stdout",
     "output_type": "stream",
     "text": [
      "67\n"
     ]
    }
   ],
   "source": [
    "uniqueProductos = list(dfTemp['product'].unique())\n",
    "print(len(uniqueProductos))"
   ]
  },
  {
   "cell_type": "code",
   "execution_count": 111,
   "metadata": {},
   "outputs": [
    {
     "name": "stdout",
     "output_type": "stream",
     "text": [
      "19104\n"
     ]
    }
   ],
   "source": [
    "uniqueCustomers = list(dfTemp['CustomerId'].unique())\n",
    "uniqueCustomers = sorted(uniqueCustomers)\n",
    "print(len(uniqueCustomers))"
   ]
  },
  {
   "cell_type": "markdown",
   "metadata": {},
   "source": [
    "Se dividen las ventas por semanas en diferentes data frames."
   ]
  },
  {
   "cell_type": "code",
   "execution_count": 112,
   "metadata": {},
   "outputs": [],
   "source": [
    "dfTemp = dfTemp.drop(columns=['brand', 'size'])\n",
    "dfWeek18 = dfTemp[dfTemp['week']==202018]\n",
    "dfWeek19 = dfTemp[dfTemp['week']==202019]\n",
    "dfWeek20 = dfTemp[dfTemp['week']==202020]\n",
    "dfWeek21 = dfTemp[dfTemp['week']==202021]"
   ]
  },
  {
   "cell_type": "code",
   "execution_count": 113,
   "metadata": {},
   "outputs": [
    {
     "data": {
      "text/html": [
       "<div>\n",
       "<style scoped>\n",
       "    .dataframe tbody tr th:only-of-type {\n",
       "        vertical-align: middle;\n",
       "    }\n",
       "\n",
       "    .dataframe tbody tr th {\n",
       "        vertical-align: top;\n",
       "    }\n",
       "\n",
       "    .dataframe thead th {\n",
       "        text-align: right;\n",
       "    }\n",
       "</style>\n",
       "<table border=\"1\" class=\"dataframe\">\n",
       "  <thead>\n",
       "    <tr style=\"text-align: right;\">\n",
       "      <th></th>\n",
       "      <th>CustomerId</th>\n",
       "      <th>Sales</th>\n",
       "      <th>product</th>\n",
       "    </tr>\n",
       "  </thead>\n",
       "  <tbody>\n",
       "    <tr>\n",
       "      <th>0</th>\n",
       "      <td>500277171</td>\n",
       "      <td>1.056700</td>\n",
       "      <td>CIEL EXPRIM INDIVIDUAL</td>\n",
       "    </tr>\n",
       "    <tr>\n",
       "      <th>1</th>\n",
       "      <td>500254405</td>\n",
       "      <td>60.584799</td>\n",
       "      <td>COCA-COLA FAMILIAR</td>\n",
       "    </tr>\n",
       "    <tr>\n",
       "      <th>2</th>\n",
       "      <td>500255970</td>\n",
       "      <td>35.223399</td>\n",
       "      <td>JOYA FAMILIAR</td>\n",
       "    </tr>\n",
       "    <tr>\n",
       "      <th>3</th>\n",
       "      <td>500256780</td>\n",
       "      <td>3.170200</td>\n",
       "      <td>TOPO CHICO A.M. FAMILIAR</td>\n",
       "    </tr>\n",
       "    <tr>\n",
       "      <th>4</th>\n",
       "      <td>500260292</td>\n",
       "      <td>6.340500</td>\n",
       "      <td>COCA-COLA LIGHT INDIVIDUAL</td>\n",
       "    </tr>\n",
       "  </tbody>\n",
       "</table>\n",
       "</div>"
      ],
      "text/plain": [
       "   CustomerId      Sales                     product\n",
       "0   500277171   1.056700      CIEL EXPRIM INDIVIDUAL\n",
       "1   500254405  60.584799          COCA-COLA FAMILIAR\n",
       "2   500255970  35.223399               JOYA FAMILIAR\n",
       "3   500256780   3.170200    TOPO CHICO A.M. FAMILIAR\n",
       "4   500260292   6.340500  COCA-COLA LIGHT INDIVIDUAL"
      ]
     },
     "execution_count": 113,
     "metadata": {},
     "output_type": "execute_result"
    }
   ],
   "source": [
    "dfWeek18 = dfWeek18.drop(columns=['week'])\n",
    "dfWeek18.head()"
   ]
  },
  {
   "cell_type": "code",
   "execution_count": 114,
   "metadata": {},
   "outputs": [
    {
     "data": {
      "text/plain": [
       "(238964, 3)"
      ]
     },
     "execution_count": 114,
     "metadata": {},
     "output_type": "execute_result"
    }
   ],
   "source": [
    "dfWeek18.shape"
   ]
  },
  {
   "cell_type": "code",
   "execution_count": 115,
   "metadata": {},
   "outputs": [
    {
     "data": {
      "text/plain": [
       "18069"
      ]
     },
     "execution_count": 115,
     "metadata": {},
     "output_type": "execute_result"
    }
   ],
   "source": [
    "dfWeek18['CustomerId'].nunique()"
   ]
  },
  {
   "cell_type": "code",
   "execution_count": 116,
   "metadata": {},
   "outputs": [
    {
     "data": {
      "text/html": [
       "<div>\n",
       "<style scoped>\n",
       "    .dataframe tbody tr th:only-of-type {\n",
       "        vertical-align: middle;\n",
       "    }\n",
       "\n",
       "    .dataframe tbody tr th {\n",
       "        vertical-align: top;\n",
       "    }\n",
       "\n",
       "    .dataframe thead th {\n",
       "        text-align: right;\n",
       "    }\n",
       "</style>\n",
       "<table border=\"1\" class=\"dataframe\">\n",
       "  <thead>\n",
       "    <tr style=\"text-align: right;\">\n",
       "      <th></th>\n",
       "      <th>CustomerId</th>\n",
       "      <th>Sales</th>\n",
       "      <th>product</th>\n",
       "    </tr>\n",
       "  </thead>\n",
       "  <tbody>\n",
       "    <tr>\n",
       "      <th>105010</th>\n",
       "      <td>500000101</td>\n",
       "      <td>2.536200</td>\n",
       "      <td>TOPO CHICO A.M. INDIVIDUAL</td>\n",
       "    </tr>\n",
       "    <tr>\n",
       "      <th>690932</th>\n",
       "      <td>500000101</td>\n",
       "      <td>4.226800</td>\n",
       "      <td>CIEL EXPRIM INDIVIDUAL</td>\n",
       "    </tr>\n",
       "    <tr>\n",
       "      <th>249313</th>\n",
       "      <td>500000101</td>\n",
       "      <td>52.835499</td>\n",
       "      <td>COCA-COLA FAMILIAR</td>\n",
       "    </tr>\n",
       "    <tr>\n",
       "      <th>525933</th>\n",
       "      <td>500000101</td>\n",
       "      <td>3.522400</td>\n",
       "      <td>CIEL AGUA PURIFICADA FAMILIAR</td>\n",
       "    </tr>\n",
       "    <tr>\n",
       "      <th>252891</th>\n",
       "      <td>500000101</td>\n",
       "      <td>4.797600</td>\n",
       "      <td>COCA-COLA SIN AZÚCAR INDIVIDUAL</td>\n",
       "    </tr>\n",
       "    <tr>\n",
       "      <th>...</th>\n",
       "      <td>...</td>\n",
       "      <td>...</td>\n",
       "      <td>...</td>\n",
       "    </tr>\n",
       "    <tr>\n",
       "      <th>699123</th>\n",
       "      <td>8700086000</td>\n",
       "      <td>1.500500</td>\n",
       "      <td>SPRITE INDIVIDUAL</td>\n",
       "    </tr>\n",
       "    <tr>\n",
       "      <th>209543</th>\n",
       "      <td>8700086000</td>\n",
       "      <td>1.500500</td>\n",
       "      <td>COCA-COLA LIGHT INDIVIDUAL</td>\n",
       "    </tr>\n",
       "    <tr>\n",
       "      <th>122238</th>\n",
       "      <td>8700086000</td>\n",
       "      <td>1.416000</td>\n",
       "      <td>DEL VALLE INDIVIDUAL</td>\n",
       "    </tr>\n",
       "    <tr>\n",
       "      <th>106432</th>\n",
       "      <td>8700086000</td>\n",
       "      <td>1.500500</td>\n",
       "      <td>SIDRAL MUNDET INDIVIDUAL</td>\n",
       "    </tr>\n",
       "    <tr>\n",
       "      <th>660692</th>\n",
       "      <td>8700086350</td>\n",
       "      <td>0.634050</td>\n",
       "      <td>COCA-COLA INDIVIDUAL</td>\n",
       "    </tr>\n",
       "  </tbody>\n",
       "</table>\n",
       "<p>238964 rows × 3 columns</p>\n",
       "</div>"
      ],
      "text/plain": [
       "        CustomerId      Sales                          product\n",
       "105010   500000101   2.536200       TOPO CHICO A.M. INDIVIDUAL\n",
       "690932   500000101   4.226800           CIEL EXPRIM INDIVIDUAL\n",
       "249313   500000101  52.835499               COCA-COLA FAMILIAR\n",
       "525933   500000101   3.522400    CIEL AGUA PURIFICADA FAMILIAR\n",
       "252891   500000101   4.797600  COCA-COLA SIN AZÚCAR INDIVIDUAL\n",
       "...            ...        ...                              ...\n",
       "699123  8700086000   1.500500                SPRITE INDIVIDUAL\n",
       "209543  8700086000   1.500500       COCA-COLA LIGHT INDIVIDUAL\n",
       "122238  8700086000   1.416000             DEL VALLE INDIVIDUAL\n",
       "106432  8700086000   1.500500         SIDRAL MUNDET INDIVIDUAL\n",
       "660692  8700086350   0.634050             COCA-COLA INDIVIDUAL\n",
       "\n",
       "[238964 rows x 3 columns]"
      ]
     },
     "execution_count": 116,
     "metadata": {},
     "output_type": "execute_result"
    }
   ],
   "source": [
    "dfWeek18.sort_values(by=['CustomerId'])"
   ]
  },
  {
   "cell_type": "code",
   "execution_count": 117,
   "metadata": {},
   "outputs": [],
   "source": [
    "dfTemp18 = dfWeek18.groupby(['CustomerId', 'product']).sum()"
   ]
  },
  {
   "cell_type": "code",
   "execution_count": 118,
   "metadata": {},
   "outputs": [
    {
     "data": {
      "text/plain": [
       "(238964, 1)"
      ]
     },
     "execution_count": 118,
     "metadata": {},
     "output_type": "execute_result"
    }
   ],
   "source": [
    "dfTemp18.shape"
   ]
  },
  {
   "cell_type": "code",
   "execution_count": 119,
   "metadata": {},
   "outputs": [],
   "source": [
    "dfWeek19 = dfWeek19.drop(columns=['week'])"
   ]
  },
  {
   "cell_type": "code",
   "execution_count": 120,
   "metadata": {},
   "outputs": [
    {
     "name": "stdout",
     "output_type": "stream",
     "text": [
      "(263645, 1)\n"
     ]
    }
   ],
   "source": [
    "dfTemp19 = dfWeek19.groupby(['CustomerId', 'product']).sum()\n",
    "print(dfTemp19.shape)"
   ]
  },
  {
   "cell_type": "code",
   "execution_count": 121,
   "metadata": {},
   "outputs": [],
   "source": [
    "dfWeek20 = dfWeek20.drop(columns=['week'])\n",
    "dfTemp20 = dfWeek20.groupby(['CustomerId', 'product']).sum()"
   ]
  },
  {
   "cell_type": "code",
   "execution_count": 122,
   "metadata": {},
   "outputs": [
    {
     "data": {
      "text/html": [
       "<div>\n",
       "<style scoped>\n",
       "    .dataframe tbody tr th:only-of-type {\n",
       "        vertical-align: middle;\n",
       "    }\n",
       "\n",
       "    .dataframe tbody tr th {\n",
       "        vertical-align: top;\n",
       "    }\n",
       "\n",
       "    .dataframe thead th {\n",
       "        text-align: right;\n",
       "    }\n",
       "</style>\n",
       "<table border=\"1\" class=\"dataframe\">\n",
       "  <thead>\n",
       "    <tr style=\"text-align: right;\">\n",
       "      <th></th>\n",
       "      <th></th>\n",
       "      <th>Sales</th>\n",
       "    </tr>\n",
       "    <tr>\n",
       "      <th>CustomerId</th>\n",
       "      <th>product</th>\n",
       "      <th></th>\n",
       "    </tr>\n",
       "  </thead>\n",
       "  <tbody>\n",
       "    <tr>\n",
       "      <th rowspan=\"5\" valign=\"top\">500000101</th>\n",
       "      <th>CIEL AGUA PURIFICADA FAMILIAR</th>\n",
       "      <td>3.522400</td>\n",
       "    </tr>\n",
       "    <tr>\n",
       "      <th>CIEL AGUA PURIFICADA INDIVIDUAL</th>\n",
       "      <td>6.340200</td>\n",
       "    </tr>\n",
       "    <tr>\n",
       "      <th>COCA-COLA FAMILIAR</th>\n",
       "      <td>58.823599</td>\n",
       "    </tr>\n",
       "    <tr>\n",
       "      <th>COCA-COLA INDIVIDUAL</th>\n",
       "      <td>33.848400</td>\n",
       "    </tr>\n",
       "    <tr>\n",
       "      <th>COCA-COLA LIGHT FAMILIAR</th>\n",
       "      <td>14.089500</td>\n",
       "    </tr>\n",
       "  </tbody>\n",
       "</table>\n",
       "</div>"
      ],
      "text/plain": [
       "                                                Sales\n",
       "CustomerId product                                   \n",
       "500000101  CIEL AGUA PURIFICADA FAMILIAR     3.522400\n",
       "           CIEL AGUA PURIFICADA INDIVIDUAL   6.340200\n",
       "           COCA-COLA FAMILIAR               58.823599\n",
       "           COCA-COLA INDIVIDUAL             33.848400\n",
       "           COCA-COLA LIGHT FAMILIAR         14.089500"
      ]
     },
     "execution_count": 122,
     "metadata": {},
     "output_type": "execute_result"
    }
   ],
   "source": [
    "dfTemp20.head()"
   ]
  },
  {
   "cell_type": "code",
   "execution_count": 123,
   "metadata": {},
   "outputs": [],
   "source": [
    "dfWeek21 = dfWeek21.drop(columns=['week'])\n",
    "dfTemp21 = dfWeek21.groupby(['CustomerId', 'product']).sum()"
   ]
  },
  {
   "cell_type": "code",
   "execution_count": 124,
   "metadata": {},
   "outputs": [
    {
     "data": {
      "text/html": [
       "<div>\n",
       "<style scoped>\n",
       "    .dataframe tbody tr th:only-of-type {\n",
       "        vertical-align: middle;\n",
       "    }\n",
       "\n",
       "    .dataframe tbody tr th {\n",
       "        vertical-align: top;\n",
       "    }\n",
       "\n",
       "    .dataframe thead th {\n",
       "        text-align: right;\n",
       "    }\n",
       "</style>\n",
       "<table border=\"1\" class=\"dataframe\">\n",
       "  <thead>\n",
       "    <tr style=\"text-align: right;\">\n",
       "      <th></th>\n",
       "      <th></th>\n",
       "      <th>Sales</th>\n",
       "    </tr>\n",
       "    <tr>\n",
       "      <th>CustomerId</th>\n",
       "      <th>product</th>\n",
       "      <th></th>\n",
       "    </tr>\n",
       "  </thead>\n",
       "  <tbody>\n",
       "    <tr>\n",
       "      <th rowspan=\"5\" valign=\"top\">500000171</th>\n",
       "      <th>COCA-COLA FAMILIAR</th>\n",
       "      <td>3.1701</td>\n",
       "    </tr>\n",
       "    <tr>\n",
       "      <th>COCA-COLA INDIVIDUAL</th>\n",
       "      <td>19.7815</td>\n",
       "    </tr>\n",
       "    <tr>\n",
       "      <th>COCA-COLA LIGHT INDIVIDUAL</th>\n",
       "      <td>5.0722</td>\n",
       "    </tr>\n",
       "    <tr>\n",
       "      <th>COCA-COLA SIN AZÚCAR INDIVIDUAL</th>\n",
       "      <td>2.5362</td>\n",
       "    </tr>\n",
       "    <tr>\n",
       "      <th>DEL VALLE Y NADA INDIVIDUAL</th>\n",
       "      <td>3.8043</td>\n",
       "    </tr>\n",
       "  </tbody>\n",
       "</table>\n",
       "</div>"
      ],
      "text/plain": [
       "                                              Sales\n",
       "CustomerId product                                 \n",
       "500000171  COCA-COLA FAMILIAR                3.1701\n",
       "           COCA-COLA INDIVIDUAL             19.7815\n",
       "           COCA-COLA LIGHT INDIVIDUAL        5.0722\n",
       "           COCA-COLA SIN AZÚCAR INDIVIDUAL   2.5362\n",
       "           DEL VALLE Y NADA INDIVIDUAL       3.8043"
      ]
     },
     "execution_count": 124,
     "metadata": {},
     "output_type": "execute_result"
    }
   ],
   "source": [
    "dfTemp21.head()"
   ]
  },
  {
   "cell_type": "code",
   "execution_count": 125,
   "metadata": {},
   "outputs": [],
   "source": [
    "deltas = dfTemp18 - dfTemp19\n",
    "deltas = deltas - dfTemp20\n",
    "deltas = deltas - dfTemp21"
   ]
  },
  {
   "cell_type": "code",
   "execution_count": 126,
   "metadata": {},
   "outputs": [
    {
     "name": "stdout",
     "output_type": "stream",
     "text": [
      "Sales    314558\n",
      "dtype: int64\n"
     ]
    }
   ],
   "source": [
    "maskDelta = deltas.isna()\n",
    "print(maskDelta.sum())"
   ]
  },
  {
   "cell_type": "markdown",
   "metadata": {},
   "source": [
    "No deberían de haber valores NaN, debería de ser un número.\n",
    "Los valores NaN, se presentan cuando en una de las dos semanas no se reportaron ventas de un producto\n",
    " en específico, pero en la otra semana sí se resportaron."
   ]
  },
  {
   "cell_type": "code",
   "execution_count": 127,
   "metadata": {},
   "outputs": [
    {
     "data": {
      "text/plain": [
       "(355371, 1)"
      ]
     },
     "execution_count": 127,
     "metadata": {},
     "output_type": "execute_result"
    }
   ],
   "source": [
    "deltas.shape"
   ]
  },
  {
   "cell_type": "code",
   "execution_count": 128,
   "metadata": {},
   "outputs": [
    {
     "data": {
      "text/html": [
       "<div>\n",
       "<style scoped>\n",
       "    .dataframe tbody tr th:only-of-type {\n",
       "        vertical-align: middle;\n",
       "    }\n",
       "\n",
       "    .dataframe tbody tr th {\n",
       "        vertical-align: top;\n",
       "    }\n",
       "\n",
       "    .dataframe thead th {\n",
       "        text-align: right;\n",
       "    }\n",
       "</style>\n",
       "<table border=\"1\" class=\"dataframe\">\n",
       "  <thead>\n",
       "    <tr style=\"text-align: right;\">\n",
       "      <th></th>\n",
       "      <th></th>\n",
       "      <th>Sales</th>\n",
       "    </tr>\n",
       "    <tr>\n",
       "      <th>CustomerId</th>\n",
       "      <th>product</th>\n",
       "      <th></th>\n",
       "    </tr>\n",
       "  </thead>\n",
       "  <tbody>\n",
       "    <tr>\n",
       "      <th rowspan=\"5\" valign=\"top\">500000101</th>\n",
       "      <th>CIEL AGUA PURIFICADA FAMILIAR</th>\n",
       "      <td>NaN</td>\n",
       "    </tr>\n",
       "    <tr>\n",
       "      <th>CIEL AGUA PURIFICADA INDIVIDUAL</th>\n",
       "      <td>NaN</td>\n",
       "    </tr>\n",
       "    <tr>\n",
       "      <th>CIEL EXPRIM INDIVIDUAL</th>\n",
       "      <td>NaN</td>\n",
       "    </tr>\n",
       "    <tr>\n",
       "      <th>COCA-COLA CAFÉ INDIVIDUAL</th>\n",
       "      <td>NaN</td>\n",
       "    </tr>\n",
       "    <tr>\n",
       "      <th>COCA-COLA ENERGY INDIVIDUAL</th>\n",
       "      <td>NaN</td>\n",
       "    </tr>\n",
       "  </tbody>\n",
       "</table>\n",
       "</div>"
      ],
      "text/plain": [
       "                                            Sales\n",
       "CustomerId product                               \n",
       "500000101  CIEL AGUA PURIFICADA FAMILIAR      NaN\n",
       "           CIEL AGUA PURIFICADA INDIVIDUAL    NaN\n",
       "           CIEL EXPRIM INDIVIDUAL             NaN\n",
       "           COCA-COLA CAFÉ INDIVIDUAL          NaN\n",
       "           COCA-COLA ENERGY INDIVIDUAL        NaN"
      ]
     },
     "execution_count": 128,
     "metadata": {},
     "output_type": "execute_result"
    }
   ],
   "source": [
    "deltas.head()"
   ]
  },
  {
   "cell_type": "code",
   "execution_count": 129,
   "metadata": {},
   "outputs": [],
   "source": [
    "deltas['Sales18'] = dfTemp18['Sales']\n",
    "deltas['Sales19'] = dfTemp19['Sales']\n",
    "deltas['Sales20'] = dfTemp20['Sales']\n",
    "deltas['Sales21'] = dfTemp21['Sales']"
   ]
  },
  {
   "cell_type": "code",
   "execution_count": 130,
   "metadata": {},
   "outputs": [
    {
     "data": {
      "text/html": [
       "<div>\n",
       "<style scoped>\n",
       "    .dataframe tbody tr th:only-of-type {\n",
       "        vertical-align: middle;\n",
       "    }\n",
       "\n",
       "    .dataframe tbody tr th {\n",
       "        vertical-align: top;\n",
       "    }\n",
       "\n",
       "    .dataframe thead th {\n",
       "        text-align: right;\n",
       "    }\n",
       "</style>\n",
       "<table border=\"1\" class=\"dataframe\">\n",
       "  <thead>\n",
       "    <tr style=\"text-align: right;\">\n",
       "      <th></th>\n",
       "      <th></th>\n",
       "      <th>Sales</th>\n",
       "      <th>Sales18</th>\n",
       "      <th>Sales19</th>\n",
       "      <th>Sales20</th>\n",
       "      <th>Sales21</th>\n",
       "    </tr>\n",
       "    <tr>\n",
       "      <th>CustomerId</th>\n",
       "      <th>product</th>\n",
       "      <th></th>\n",
       "      <th></th>\n",
       "      <th></th>\n",
       "      <th></th>\n",
       "      <th></th>\n",
       "    </tr>\n",
       "  </thead>\n",
       "  <tbody>\n",
       "    <tr>\n",
       "      <th rowspan=\"5\" valign=\"top\">500000101</th>\n",
       "      <th>CIEL AGUA PURIFICADA FAMILIAR</th>\n",
       "      <td>NaN</td>\n",
       "      <td>3.5224</td>\n",
       "      <td>7.0448</td>\n",
       "      <td>3.5224</td>\n",
       "      <td>NaN</td>\n",
       "    </tr>\n",
       "    <tr>\n",
       "      <th>CIEL AGUA PURIFICADA INDIVIDUAL</th>\n",
       "      <td>NaN</td>\n",
       "      <td>28.5309</td>\n",
       "      <td>17.3299</td>\n",
       "      <td>6.3402</td>\n",
       "      <td>NaN</td>\n",
       "    </tr>\n",
       "    <tr>\n",
       "      <th>CIEL EXPRIM INDIVIDUAL</th>\n",
       "      <td>NaN</td>\n",
       "      <td>4.2268</td>\n",
       "      <td>2.1134</td>\n",
       "      <td>NaN</td>\n",
       "      <td>NaN</td>\n",
       "    </tr>\n",
       "    <tr>\n",
       "      <th>COCA-COLA CAFÉ INDIVIDUAL</th>\n",
       "      <td>NaN</td>\n",
       "      <td>NaN</td>\n",
       "      <td>0.2483</td>\n",
       "      <td>NaN</td>\n",
       "      <td>NaN</td>\n",
       "    </tr>\n",
       "    <tr>\n",
       "      <th>COCA-COLA ENERGY INDIVIDUAL</th>\n",
       "      <td>NaN</td>\n",
       "      <td>0.2483</td>\n",
       "      <td>NaN</td>\n",
       "      <td>NaN</td>\n",
       "      <td>NaN</td>\n",
       "    </tr>\n",
       "  </tbody>\n",
       "</table>\n",
       "</div>"
      ],
      "text/plain": [
       "                                            Sales  Sales18  Sales19  Sales20  \\\n",
       "CustomerId product                                                             \n",
       "500000101  CIEL AGUA PURIFICADA FAMILIAR      NaN   3.5224   7.0448   3.5224   \n",
       "           CIEL AGUA PURIFICADA INDIVIDUAL    NaN  28.5309  17.3299   6.3402   \n",
       "           CIEL EXPRIM INDIVIDUAL             NaN   4.2268   2.1134      NaN   \n",
       "           COCA-COLA CAFÉ INDIVIDUAL          NaN      NaN   0.2483      NaN   \n",
       "           COCA-COLA ENERGY INDIVIDUAL        NaN   0.2483      NaN      NaN   \n",
       "\n",
       "                                            Sales21  \n",
       "CustomerId product                                   \n",
       "500000101  CIEL AGUA PURIFICADA FAMILIAR        NaN  \n",
       "           CIEL AGUA PURIFICADA INDIVIDUAL      NaN  \n",
       "           CIEL EXPRIM INDIVIDUAL               NaN  \n",
       "           COCA-COLA CAFÉ INDIVIDUAL            NaN  \n",
       "           COCA-COLA ENERGY INDIVIDUAL          NaN  "
      ]
     },
     "execution_count": 130,
     "metadata": {},
     "output_type": "execute_result"
    }
   ],
   "source": [
    "deltas.head()"
   ]
  },
  {
   "cell_type": "code",
   "execution_count": 131,
   "metadata": {},
   "outputs": [],
   "source": [
    "deltas = deltas.drop(columns=['Sales'])"
   ]
  },
  {
   "cell_type": "code",
   "execution_count": 132,
   "metadata": {},
   "outputs": [
    {
     "data": {
      "text/html": [
       "<div>\n",
       "<style scoped>\n",
       "    .dataframe tbody tr th:only-of-type {\n",
       "        vertical-align: middle;\n",
       "    }\n",
       "\n",
       "    .dataframe tbody tr th {\n",
       "        vertical-align: top;\n",
       "    }\n",
       "\n",
       "    .dataframe thead th {\n",
       "        text-align: right;\n",
       "    }\n",
       "</style>\n",
       "<table border=\"1\" class=\"dataframe\">\n",
       "  <thead>\n",
       "    <tr style=\"text-align: right;\">\n",
       "      <th></th>\n",
       "      <th></th>\n",
       "      <th>Sales18</th>\n",
       "      <th>Sales19</th>\n",
       "      <th>Sales20</th>\n",
       "      <th>Sales21</th>\n",
       "    </tr>\n",
       "    <tr>\n",
       "      <th>CustomerId</th>\n",
       "      <th>product</th>\n",
       "      <th></th>\n",
       "      <th></th>\n",
       "      <th></th>\n",
       "      <th></th>\n",
       "    </tr>\n",
       "  </thead>\n",
       "  <tbody>\n",
       "    <tr>\n",
       "      <th rowspan=\"5\" valign=\"top\">500000101</th>\n",
       "      <th>CIEL AGUA PURIFICADA FAMILIAR</th>\n",
       "      <td>3.5224</td>\n",
       "      <td>7.0448</td>\n",
       "      <td>3.5224</td>\n",
       "      <td>NaN</td>\n",
       "    </tr>\n",
       "    <tr>\n",
       "      <th>CIEL AGUA PURIFICADA INDIVIDUAL</th>\n",
       "      <td>28.5309</td>\n",
       "      <td>17.3299</td>\n",
       "      <td>6.3402</td>\n",
       "      <td>NaN</td>\n",
       "    </tr>\n",
       "    <tr>\n",
       "      <th>CIEL EXPRIM INDIVIDUAL</th>\n",
       "      <td>4.2268</td>\n",
       "      <td>2.1134</td>\n",
       "      <td>NaN</td>\n",
       "      <td>NaN</td>\n",
       "    </tr>\n",
       "    <tr>\n",
       "      <th>COCA-COLA CAFÉ INDIVIDUAL</th>\n",
       "      <td>NaN</td>\n",
       "      <td>0.2483</td>\n",
       "      <td>NaN</td>\n",
       "      <td>NaN</td>\n",
       "    </tr>\n",
       "    <tr>\n",
       "      <th>COCA-COLA ENERGY INDIVIDUAL</th>\n",
       "      <td>0.2483</td>\n",
       "      <td>NaN</td>\n",
       "      <td>NaN</td>\n",
       "      <td>NaN</td>\n",
       "    </tr>\n",
       "  </tbody>\n",
       "</table>\n",
       "</div>"
      ],
      "text/plain": [
       "                                            Sales18  Sales19  Sales20  Sales21\n",
       "CustomerId product                                                            \n",
       "500000101  CIEL AGUA PURIFICADA FAMILIAR     3.5224   7.0448   3.5224      NaN\n",
       "           CIEL AGUA PURIFICADA INDIVIDUAL  28.5309  17.3299   6.3402      NaN\n",
       "           CIEL EXPRIM INDIVIDUAL            4.2268   2.1134      NaN      NaN\n",
       "           COCA-COLA CAFÉ INDIVIDUAL            NaN   0.2483      NaN      NaN\n",
       "           COCA-COLA ENERGY INDIVIDUAL       0.2483      NaN      NaN      NaN"
      ]
     },
     "execution_count": 132,
     "metadata": {},
     "output_type": "execute_result"
    }
   ],
   "source": [
    "deltas.head()"
   ]
  },
  {
   "cell_type": "code",
   "execution_count": 133,
   "metadata": {},
   "outputs": [],
   "source": [
    "deltas = deltas.fillna(0.0)"
   ]
  },
  {
   "cell_type": "code",
   "execution_count": 134,
   "metadata": {},
   "outputs": [
    {
     "data": {
      "text/html": [
       "<div>\n",
       "<style scoped>\n",
       "    .dataframe tbody tr th:only-of-type {\n",
       "        vertical-align: middle;\n",
       "    }\n",
       "\n",
       "    .dataframe tbody tr th {\n",
       "        vertical-align: top;\n",
       "    }\n",
       "\n",
       "    .dataframe thead th {\n",
       "        text-align: right;\n",
       "    }\n",
       "</style>\n",
       "<table border=\"1\" class=\"dataframe\">\n",
       "  <thead>\n",
       "    <tr style=\"text-align: right;\">\n",
       "      <th></th>\n",
       "      <th></th>\n",
       "      <th>Sales18</th>\n",
       "      <th>Sales19</th>\n",
       "      <th>Sales20</th>\n",
       "      <th>Sales21</th>\n",
       "    </tr>\n",
       "    <tr>\n",
       "      <th>CustomerId</th>\n",
       "      <th>product</th>\n",
       "      <th></th>\n",
       "      <th></th>\n",
       "      <th></th>\n",
       "      <th></th>\n",
       "    </tr>\n",
       "  </thead>\n",
       "  <tbody>\n",
       "    <tr>\n",
       "      <th rowspan=\"5\" valign=\"top\">500000101</th>\n",
       "      <th>CIEL AGUA PURIFICADA FAMILIAR</th>\n",
       "      <td>3.5224</td>\n",
       "      <td>7.0448</td>\n",
       "      <td>3.5224</td>\n",
       "      <td>0.0</td>\n",
       "    </tr>\n",
       "    <tr>\n",
       "      <th>CIEL AGUA PURIFICADA INDIVIDUAL</th>\n",
       "      <td>28.5309</td>\n",
       "      <td>17.3299</td>\n",
       "      <td>6.3402</td>\n",
       "      <td>0.0</td>\n",
       "    </tr>\n",
       "    <tr>\n",
       "      <th>CIEL EXPRIM INDIVIDUAL</th>\n",
       "      <td>4.2268</td>\n",
       "      <td>2.1134</td>\n",
       "      <td>0.0000</td>\n",
       "      <td>0.0</td>\n",
       "    </tr>\n",
       "    <tr>\n",
       "      <th>COCA-COLA CAFÉ INDIVIDUAL</th>\n",
       "      <td>0.0000</td>\n",
       "      <td>0.2483</td>\n",
       "      <td>0.0000</td>\n",
       "      <td>0.0</td>\n",
       "    </tr>\n",
       "    <tr>\n",
       "      <th>COCA-COLA ENERGY INDIVIDUAL</th>\n",
       "      <td>0.2483</td>\n",
       "      <td>0.0000</td>\n",
       "      <td>0.0000</td>\n",
       "      <td>0.0</td>\n",
       "    </tr>\n",
       "  </tbody>\n",
       "</table>\n",
       "</div>"
      ],
      "text/plain": [
       "                                            Sales18  Sales19  Sales20  Sales21\n",
       "CustomerId product                                                            \n",
       "500000101  CIEL AGUA PURIFICADA FAMILIAR     3.5224   7.0448   3.5224      0.0\n",
       "           CIEL AGUA PURIFICADA INDIVIDUAL  28.5309  17.3299   6.3402      0.0\n",
       "           CIEL EXPRIM INDIVIDUAL            4.2268   2.1134   0.0000      0.0\n",
       "           COCA-COLA CAFÉ INDIVIDUAL         0.0000   0.2483   0.0000      0.0\n",
       "           COCA-COLA ENERGY INDIVIDUAL       0.2483   0.0000   0.0000      0.0"
      ]
     },
     "execution_count": 134,
     "metadata": {},
     "output_type": "execute_result"
    }
   ],
   "source": [
    "ventasRaw = deltas\n",
    "deltas.head()"
   ]
  },
  {
   "cell_type": "code",
   "execution_count": 135,
   "metadata": {},
   "outputs": [],
   "source": [
    "deltas['delta_1'] = deltas['Sales18'] - deltas['Sales19']\n",
    "deltas['delta_2'] = deltas['Sales19'] - deltas['Sales20']\n",
    "deltas['delta_3'] = deltas['Sales20'] - deltas['Sales21']"
   ]
  },
  {
   "cell_type": "code",
   "execution_count": 136,
   "metadata": {
    "scrolled": true
   },
   "outputs": [
    {
     "data": {
      "text/html": [
       "<div>\n",
       "<style scoped>\n",
       "    .dataframe tbody tr th:only-of-type {\n",
       "        vertical-align: middle;\n",
       "    }\n",
       "\n",
       "    .dataframe tbody tr th {\n",
       "        vertical-align: top;\n",
       "    }\n",
       "\n",
       "    .dataframe thead th {\n",
       "        text-align: right;\n",
       "    }\n",
       "</style>\n",
       "<table border=\"1\" class=\"dataframe\">\n",
       "  <thead>\n",
       "    <tr style=\"text-align: right;\">\n",
       "      <th></th>\n",
       "      <th></th>\n",
       "      <th>Sales18</th>\n",
       "      <th>Sales19</th>\n",
       "      <th>Sales20</th>\n",
       "      <th>Sales21</th>\n",
       "      <th>delta_1</th>\n",
       "      <th>delta_2</th>\n",
       "      <th>delta_3</th>\n",
       "    </tr>\n",
       "    <tr>\n",
       "      <th>CustomerId</th>\n",
       "      <th>product</th>\n",
       "      <th></th>\n",
       "      <th></th>\n",
       "      <th></th>\n",
       "      <th></th>\n",
       "      <th></th>\n",
       "      <th></th>\n",
       "      <th></th>\n",
       "    </tr>\n",
       "  </thead>\n",
       "  <tbody>\n",
       "    <tr>\n",
       "      <th rowspan=\"5\" valign=\"top\">500000101</th>\n",
       "      <th>CIEL AGUA PURIFICADA FAMILIAR</th>\n",
       "      <td>3.5224</td>\n",
       "      <td>7.0448</td>\n",
       "      <td>3.5224</td>\n",
       "      <td>0.0</td>\n",
       "      <td>-3.5224</td>\n",
       "      <td>3.5224</td>\n",
       "      <td>3.5224</td>\n",
       "    </tr>\n",
       "    <tr>\n",
       "      <th>CIEL AGUA PURIFICADA INDIVIDUAL</th>\n",
       "      <td>28.5309</td>\n",
       "      <td>17.3299</td>\n",
       "      <td>6.3402</td>\n",
       "      <td>0.0</td>\n",
       "      <td>11.2010</td>\n",
       "      <td>10.9897</td>\n",
       "      <td>6.3402</td>\n",
       "    </tr>\n",
       "    <tr>\n",
       "      <th>CIEL EXPRIM INDIVIDUAL</th>\n",
       "      <td>4.2268</td>\n",
       "      <td>2.1134</td>\n",
       "      <td>0.0000</td>\n",
       "      <td>0.0</td>\n",
       "      <td>2.1134</td>\n",
       "      <td>2.1134</td>\n",
       "      <td>0.0000</td>\n",
       "    </tr>\n",
       "    <tr>\n",
       "      <th>COCA-COLA CAFÉ INDIVIDUAL</th>\n",
       "      <td>0.0000</td>\n",
       "      <td>0.2483</td>\n",
       "      <td>0.0000</td>\n",
       "      <td>0.0</td>\n",
       "      <td>-0.2483</td>\n",
       "      <td>0.2483</td>\n",
       "      <td>0.0000</td>\n",
       "    </tr>\n",
       "    <tr>\n",
       "      <th>COCA-COLA ENERGY INDIVIDUAL</th>\n",
       "      <td>0.2483</td>\n",
       "      <td>0.0000</td>\n",
       "      <td>0.0000</td>\n",
       "      <td>0.0</td>\n",
       "      <td>0.2483</td>\n",
       "      <td>0.0000</td>\n",
       "      <td>0.0000</td>\n",
       "    </tr>\n",
       "  </tbody>\n",
       "</table>\n",
       "</div>"
      ],
      "text/plain": [
       "                                            Sales18  Sales19  Sales20  \\\n",
       "CustomerId product                                                      \n",
       "500000101  CIEL AGUA PURIFICADA FAMILIAR     3.5224   7.0448   3.5224   \n",
       "           CIEL AGUA PURIFICADA INDIVIDUAL  28.5309  17.3299   6.3402   \n",
       "           CIEL EXPRIM INDIVIDUAL            4.2268   2.1134   0.0000   \n",
       "           COCA-COLA CAFÉ INDIVIDUAL         0.0000   0.2483   0.0000   \n",
       "           COCA-COLA ENERGY INDIVIDUAL       0.2483   0.0000   0.0000   \n",
       "\n",
       "                                            Sales21  delta_1  delta_2  delta_3  \n",
       "CustomerId product                                                              \n",
       "500000101  CIEL AGUA PURIFICADA FAMILIAR        0.0  -3.5224   3.5224   3.5224  \n",
       "           CIEL AGUA PURIFICADA INDIVIDUAL      0.0  11.2010  10.9897   6.3402  \n",
       "           CIEL EXPRIM INDIVIDUAL               0.0   2.1134   2.1134   0.0000  \n",
       "           COCA-COLA CAFÉ INDIVIDUAL            0.0  -0.2483   0.2483   0.0000  \n",
       "           COCA-COLA ENERGY INDIVIDUAL          0.0   0.2483   0.0000   0.0000  "
      ]
     },
     "execution_count": 136,
     "metadata": {},
     "output_type": "execute_result"
    }
   ],
   "source": [
    "deltas.head()"
   ]
  },
  {
   "cell_type": "code",
   "execution_count": 137,
   "metadata": {},
   "outputs": [
    {
     "data": {
      "text/plain": [
       "(355371, 7)"
      ]
     },
     "execution_count": 137,
     "metadata": {},
     "output_type": "execute_result"
    }
   ],
   "source": [
    "deltas.shape"
   ]
  },
  {
   "cell_type": "code",
   "execution_count": 138,
   "metadata": {},
   "outputs": [
    {
     "data": {
      "text/html": [
       "<div>\n",
       "<style scoped>\n",
       "    .dataframe tbody tr th:only-of-type {\n",
       "        vertical-align: middle;\n",
       "    }\n",
       "\n",
       "    .dataframe tbody tr th {\n",
       "        vertical-align: top;\n",
       "    }\n",
       "\n",
       "    .dataframe thead th {\n",
       "        text-align: right;\n",
       "    }\n",
       "</style>\n",
       "<table border=\"1\" class=\"dataframe\">\n",
       "  <thead>\n",
       "    <tr style=\"text-align: right;\">\n",
       "      <th></th>\n",
       "      <th>Sales18</th>\n",
       "      <th>Sales19</th>\n",
       "      <th>Sales20</th>\n",
       "      <th>Sales21</th>\n",
       "      <th>delta_1</th>\n",
       "      <th>delta_2</th>\n",
       "      <th>delta_3</th>\n",
       "    </tr>\n",
       "    <tr>\n",
       "      <th>product</th>\n",
       "      <th></th>\n",
       "      <th></th>\n",
       "      <th></th>\n",
       "      <th></th>\n",
       "      <th></th>\n",
       "      <th></th>\n",
       "      <th></th>\n",
       "    </tr>\n",
       "  </thead>\n",
       "  <tbody>\n",
       "    <tr>\n",
       "      <th>CIEL AGUA PURIFICADA FAMILIAR</th>\n",
       "      <td>3.522400</td>\n",
       "      <td>7.0448</td>\n",
       "      <td>3.522400</td>\n",
       "      <td>0.0</td>\n",
       "      <td>-3.522400</td>\n",
       "      <td>3.522400</td>\n",
       "      <td>3.522400</td>\n",
       "    </tr>\n",
       "    <tr>\n",
       "      <th>CIEL AGUA PURIFICADA INDIVIDUAL</th>\n",
       "      <td>28.530900</td>\n",
       "      <td>17.3299</td>\n",
       "      <td>6.340200</td>\n",
       "      <td>0.0</td>\n",
       "      <td>11.201000</td>\n",
       "      <td>10.989700</td>\n",
       "      <td>6.340200</td>\n",
       "    </tr>\n",
       "    <tr>\n",
       "      <th>CIEL EXPRIM INDIVIDUAL</th>\n",
       "      <td>4.226800</td>\n",
       "      <td>2.1134</td>\n",
       "      <td>0.000000</td>\n",
       "      <td>0.0</td>\n",
       "      <td>2.113400</td>\n",
       "      <td>2.113400</td>\n",
       "      <td>0.000000</td>\n",
       "    </tr>\n",
       "    <tr>\n",
       "      <th>COCA-COLA CAFÉ INDIVIDUAL</th>\n",
       "      <td>0.000000</td>\n",
       "      <td>0.2483</td>\n",
       "      <td>0.000000</td>\n",
       "      <td>0.0</td>\n",
       "      <td>-0.248300</td>\n",
       "      <td>0.248300</td>\n",
       "      <td>0.000000</td>\n",
       "    </tr>\n",
       "    <tr>\n",
       "      <th>COCA-COLA ENERGY INDIVIDUAL</th>\n",
       "      <td>0.248300</td>\n",
       "      <td>0.0000</td>\n",
       "      <td>0.000000</td>\n",
       "      <td>0.0</td>\n",
       "      <td>0.248300</td>\n",
       "      <td>0.000000</td>\n",
       "      <td>0.000000</td>\n",
       "    </tr>\n",
       "    <tr>\n",
       "      <th>COCA-COLA FAMILIAR</th>\n",
       "      <td>52.835499</td>\n",
       "      <td>24.3042</td>\n",
       "      <td>58.823599</td>\n",
       "      <td>0.0</td>\n",
       "      <td>28.531299</td>\n",
       "      <td>-34.519399</td>\n",
       "      <td>58.823599</td>\n",
       "    </tr>\n",
       "    <tr>\n",
       "      <th>COCA-COLA INDIVIDUAL</th>\n",
       "      <td>35.695500</td>\n",
       "      <td>29.0086</td>\n",
       "      <td>33.848400</td>\n",
       "      <td>0.0</td>\n",
       "      <td>6.686900</td>\n",
       "      <td>-4.839800</td>\n",
       "      <td>33.848400</td>\n",
       "    </tr>\n",
       "    <tr>\n",
       "      <th>COCA-COLA LIGHT FAMILIAR</th>\n",
       "      <td>14.793900</td>\n",
       "      <td>14.0895</td>\n",
       "      <td>14.089500</td>\n",
       "      <td>0.0</td>\n",
       "      <td>0.704400</td>\n",
       "      <td>0.000000</td>\n",
       "      <td>14.089500</td>\n",
       "    </tr>\n",
       "    <tr>\n",
       "      <th>COCA-COLA LIGHT INDIVIDUAL</th>\n",
       "      <td>2.536100</td>\n",
       "      <td>5.0299</td>\n",
       "      <td>5.072200</td>\n",
       "      <td>0.0</td>\n",
       "      <td>-2.493800</td>\n",
       "      <td>-0.042300</td>\n",
       "      <td>5.072200</td>\n",
       "    </tr>\n",
       "    <tr>\n",
       "      <th>COCA-COLA SIN AZÚCAR FAMILIAR</th>\n",
       "      <td>7.044800</td>\n",
       "      <td>0.0000</td>\n",
       "      <td>7.044800</td>\n",
       "      <td>0.0</td>\n",
       "      <td>7.044800</td>\n",
       "      <td>-7.044800</td>\n",
       "      <td>7.044800</td>\n",
       "    </tr>\n",
       "    <tr>\n",
       "      <th>COCA-COLA SIN AZÚCAR INDIVIDUAL</th>\n",
       "      <td>4.797600</td>\n",
       "      <td>9.2078</td>\n",
       "      <td>5.403500</td>\n",
       "      <td>0.0</td>\n",
       "      <td>-4.410200</td>\n",
       "      <td>3.804300</td>\n",
       "      <td>5.403500</td>\n",
       "    </tr>\n",
       "    <tr>\n",
       "      <th>DEL VALLE Y NADA INDIVIDUAL</th>\n",
       "      <td>2.536200</td>\n",
       "      <td>2.5362</td>\n",
       "      <td>1.268100</td>\n",
       "      <td>0.0</td>\n",
       "      <td>0.000000</td>\n",
       "      <td>1.268100</td>\n",
       "      <td>1.268100</td>\n",
       "    </tr>\n",
       "    <tr>\n",
       "      <th>DELAWARE PUNCH INDIVIDUAL</th>\n",
       "      <td>1.268100</td>\n",
       "      <td>0.0000</td>\n",
       "      <td>1.268100</td>\n",
       "      <td>0.0</td>\n",
       "      <td>1.268100</td>\n",
       "      <td>-1.268100</td>\n",
       "      <td>1.268100</td>\n",
       "    </tr>\n",
       "    <tr>\n",
       "      <th>FANTA FAMILIAR</th>\n",
       "      <td>3.522400</td>\n",
       "      <td>0.0000</td>\n",
       "      <td>0.000000</td>\n",
       "      <td>0.0</td>\n",
       "      <td>3.522400</td>\n",
       "      <td>0.000000</td>\n",
       "      <td>0.000000</td>\n",
       "    </tr>\n",
       "    <tr>\n",
       "      <th>FANTA INDIVIDUAL</th>\n",
       "      <td>0.000000</td>\n",
       "      <td>0.0000</td>\n",
       "      <td>2.536200</td>\n",
       "      <td>0.0</td>\n",
       "      <td>0.000000</td>\n",
       "      <td>-2.536200</td>\n",
       "      <td>2.536200</td>\n",
       "    </tr>\n",
       "    <tr>\n",
       "      <th>FRESCA FAMILIAR</th>\n",
       "      <td>7.044800</td>\n",
       "      <td>7.0448</td>\n",
       "      <td>3.522400</td>\n",
       "      <td>0.0</td>\n",
       "      <td>0.000000</td>\n",
       "      <td>3.522400</td>\n",
       "      <td>3.522400</td>\n",
       "    </tr>\n",
       "    <tr>\n",
       "      <th>FRESCA INDIVIDUAL</th>\n",
       "      <td>1.268100</td>\n",
       "      <td>1.2681</td>\n",
       "      <td>0.000000</td>\n",
       "      <td>0.0</td>\n",
       "      <td>0.000000</td>\n",
       "      <td>1.268100</td>\n",
       "      <td>0.000000</td>\n",
       "    </tr>\n",
       "    <tr>\n",
       "      <th>SIDRAL MUNDET INDIVIDUAL</th>\n",
       "      <td>0.000000</td>\n",
       "      <td>1.2681</td>\n",
       "      <td>0.000000</td>\n",
       "      <td>0.0</td>\n",
       "      <td>-1.268100</td>\n",
       "      <td>1.268100</td>\n",
       "      <td>0.000000</td>\n",
       "    </tr>\n",
       "    <tr>\n",
       "      <th>SPRITE FAMILIAR</th>\n",
       "      <td>6.340300</td>\n",
       "      <td>11.2716</td>\n",
       "      <td>6.340300</td>\n",
       "      <td>0.0</td>\n",
       "      <td>-4.931300</td>\n",
       "      <td>4.931300</td>\n",
       "      <td>6.340300</td>\n",
       "    </tr>\n",
       "    <tr>\n",
       "      <th>SPRITE INDIVIDUAL</th>\n",
       "      <td>2.536200</td>\n",
       "      <td>0.0000</td>\n",
       "      <td>0.845400</td>\n",
       "      <td>0.0</td>\n",
       "      <td>2.536200</td>\n",
       "      <td>-0.845400</td>\n",
       "      <td>0.845400</td>\n",
       "    </tr>\n",
       "    <tr>\n",
       "      <th>SPRITE SIN AZÚCAR INDIVIDUAL</th>\n",
       "      <td>1.268100</td>\n",
       "      <td>1.2681</td>\n",
       "      <td>1.268100</td>\n",
       "      <td>0.0</td>\n",
       "      <td>0.000000</td>\n",
       "      <td>0.000000</td>\n",
       "      <td>1.268100</td>\n",
       "    </tr>\n",
       "    <tr>\n",
       "      <th>TOPO CHICO A.M. FAMILIAR</th>\n",
       "      <td>9.510600</td>\n",
       "      <td>6.3404</td>\n",
       "      <td>12.680800</td>\n",
       "      <td>0.0</td>\n",
       "      <td>3.170200</td>\n",
       "      <td>-6.340400</td>\n",
       "      <td>12.680800</td>\n",
       "    </tr>\n",
       "    <tr>\n",
       "      <th>TOPO CHICO A.M. INDIVIDUAL</th>\n",
       "      <td>2.536200</td>\n",
       "      <td>7.7776</td>\n",
       "      <td>8.876700</td>\n",
       "      <td>0.0</td>\n",
       "      <td>-5.241400</td>\n",
       "      <td>-1.099100</td>\n",
       "      <td>8.876700</td>\n",
       "    </tr>\n",
       "    <tr>\n",
       "      <th>VALLE FRUT FAMILIAR</th>\n",
       "      <td>0.000000</td>\n",
       "      <td>2.8179</td>\n",
       "      <td>2.817900</td>\n",
       "      <td>0.0</td>\n",
       "      <td>-2.817900</td>\n",
       "      <td>0.000000</td>\n",
       "      <td>2.817900</td>\n",
       "    </tr>\n",
       "    <tr>\n",
       "      <th>VALLE FRUT INDIVIDUAL</th>\n",
       "      <td>0.000000</td>\n",
       "      <td>1.2681</td>\n",
       "      <td>0.000000</td>\n",
       "      <td>0.0</td>\n",
       "      <td>-1.268100</td>\n",
       "      <td>1.268100</td>\n",
       "      <td>0.000000</td>\n",
       "    </tr>\n",
       "  </tbody>\n",
       "</table>\n",
       "</div>"
      ],
      "text/plain": [
       "                                   Sales18  Sales19    Sales20  Sales21  \\\n",
       "product                                                                   \n",
       "CIEL AGUA PURIFICADA FAMILIAR     3.522400   7.0448   3.522400      0.0   \n",
       "CIEL AGUA PURIFICADA INDIVIDUAL  28.530900  17.3299   6.340200      0.0   \n",
       "CIEL EXPRIM INDIVIDUAL            4.226800   2.1134   0.000000      0.0   \n",
       "COCA-COLA CAFÉ INDIVIDUAL         0.000000   0.2483   0.000000      0.0   \n",
       "COCA-COLA ENERGY INDIVIDUAL       0.248300   0.0000   0.000000      0.0   \n",
       "COCA-COLA FAMILIAR               52.835499  24.3042  58.823599      0.0   \n",
       "COCA-COLA INDIVIDUAL             35.695500  29.0086  33.848400      0.0   \n",
       "COCA-COLA LIGHT FAMILIAR         14.793900  14.0895  14.089500      0.0   \n",
       "COCA-COLA LIGHT INDIVIDUAL        2.536100   5.0299   5.072200      0.0   \n",
       "COCA-COLA SIN AZÚCAR FAMILIAR     7.044800   0.0000   7.044800      0.0   \n",
       "COCA-COLA SIN AZÚCAR INDIVIDUAL   4.797600   9.2078   5.403500      0.0   \n",
       "DEL VALLE Y NADA INDIVIDUAL       2.536200   2.5362   1.268100      0.0   \n",
       "DELAWARE PUNCH INDIVIDUAL         1.268100   0.0000   1.268100      0.0   \n",
       "FANTA FAMILIAR                    3.522400   0.0000   0.000000      0.0   \n",
       "FANTA INDIVIDUAL                  0.000000   0.0000   2.536200      0.0   \n",
       "FRESCA FAMILIAR                   7.044800   7.0448   3.522400      0.0   \n",
       "FRESCA INDIVIDUAL                 1.268100   1.2681   0.000000      0.0   \n",
       "SIDRAL MUNDET INDIVIDUAL          0.000000   1.2681   0.000000      0.0   \n",
       "SPRITE FAMILIAR                   6.340300  11.2716   6.340300      0.0   \n",
       "SPRITE INDIVIDUAL                 2.536200   0.0000   0.845400      0.0   \n",
       "SPRITE SIN AZÚCAR INDIVIDUAL      1.268100   1.2681   1.268100      0.0   \n",
       "TOPO CHICO A.M. FAMILIAR          9.510600   6.3404  12.680800      0.0   \n",
       "TOPO CHICO A.M. INDIVIDUAL        2.536200   7.7776   8.876700      0.0   \n",
       "VALLE FRUT FAMILIAR               0.000000   2.8179   2.817900      0.0   \n",
       "VALLE FRUT INDIVIDUAL             0.000000   1.2681   0.000000      0.0   \n",
       "\n",
       "                                   delta_1    delta_2    delta_3  \n",
       "product                                                           \n",
       "CIEL AGUA PURIFICADA FAMILIAR    -3.522400   3.522400   3.522400  \n",
       "CIEL AGUA PURIFICADA INDIVIDUAL  11.201000  10.989700   6.340200  \n",
       "CIEL EXPRIM INDIVIDUAL            2.113400   2.113400   0.000000  \n",
       "COCA-COLA CAFÉ INDIVIDUAL        -0.248300   0.248300   0.000000  \n",
       "COCA-COLA ENERGY INDIVIDUAL       0.248300   0.000000   0.000000  \n",
       "COCA-COLA FAMILIAR               28.531299 -34.519399  58.823599  \n",
       "COCA-COLA INDIVIDUAL              6.686900  -4.839800  33.848400  \n",
       "COCA-COLA LIGHT FAMILIAR          0.704400   0.000000  14.089500  \n",
       "COCA-COLA LIGHT INDIVIDUAL       -2.493800  -0.042300   5.072200  \n",
       "COCA-COLA SIN AZÚCAR FAMILIAR     7.044800  -7.044800   7.044800  \n",
       "COCA-COLA SIN AZÚCAR INDIVIDUAL  -4.410200   3.804300   5.403500  \n",
       "DEL VALLE Y NADA INDIVIDUAL       0.000000   1.268100   1.268100  \n",
       "DELAWARE PUNCH INDIVIDUAL         1.268100  -1.268100   1.268100  \n",
       "FANTA FAMILIAR                    3.522400   0.000000   0.000000  \n",
       "FANTA INDIVIDUAL                  0.000000  -2.536200   2.536200  \n",
       "FRESCA FAMILIAR                   0.000000   3.522400   3.522400  \n",
       "FRESCA INDIVIDUAL                 0.000000   1.268100   0.000000  \n",
       "SIDRAL MUNDET INDIVIDUAL         -1.268100   1.268100   0.000000  \n",
       "SPRITE FAMILIAR                  -4.931300   4.931300   6.340300  \n",
       "SPRITE INDIVIDUAL                 2.536200  -0.845400   0.845400  \n",
       "SPRITE SIN AZÚCAR INDIVIDUAL      0.000000   0.000000   1.268100  \n",
       "TOPO CHICO A.M. FAMILIAR          3.170200  -6.340400  12.680800  \n",
       "TOPO CHICO A.M. INDIVIDUAL       -5.241400  -1.099100   8.876700  \n",
       "VALLE FRUT FAMILIAR              -2.817900   0.000000   2.817900  \n",
       "VALLE FRUT INDIVIDUAL            -1.268100   1.268100   0.000000  "
      ]
     },
     "execution_count": 138,
     "metadata": {},
     "output_type": "execute_result"
    }
   ],
   "source": [
    "deltas.loc[500000101,:]"
   ]
  },
  {
   "cell_type": "code",
   "execution_count": 139,
   "metadata": {},
   "outputs": [],
   "source": [
    "deltas = deltas.drop(columns=['Sales18','Sales19','Sales20','Sales21'])"
   ]
  },
  {
   "cell_type": "code",
   "execution_count": 140,
   "metadata": {},
   "outputs": [
    {
     "data": {
      "text/html": [
       "<div>\n",
       "<style scoped>\n",
       "    .dataframe tbody tr th:only-of-type {\n",
       "        vertical-align: middle;\n",
       "    }\n",
       "\n",
       "    .dataframe tbody tr th {\n",
       "        vertical-align: top;\n",
       "    }\n",
       "\n",
       "    .dataframe thead th {\n",
       "        text-align: right;\n",
       "    }\n",
       "</style>\n",
       "<table border=\"1\" class=\"dataframe\">\n",
       "  <thead>\n",
       "    <tr style=\"text-align: right;\">\n",
       "      <th></th>\n",
       "      <th></th>\n",
       "      <th>delta_1</th>\n",
       "      <th>delta_2</th>\n",
       "      <th>delta_3</th>\n",
       "    </tr>\n",
       "    <tr>\n",
       "      <th>CustomerId</th>\n",
       "      <th>product</th>\n",
       "      <th></th>\n",
       "      <th></th>\n",
       "      <th></th>\n",
       "    </tr>\n",
       "  </thead>\n",
       "  <tbody>\n",
       "    <tr>\n",
       "      <th rowspan=\"5\" valign=\"top\">500000101</th>\n",
       "      <th>CIEL AGUA PURIFICADA FAMILIAR</th>\n",
       "      <td>-3.5224</td>\n",
       "      <td>3.5224</td>\n",
       "      <td>3.5224</td>\n",
       "    </tr>\n",
       "    <tr>\n",
       "      <th>CIEL AGUA PURIFICADA INDIVIDUAL</th>\n",
       "      <td>11.2010</td>\n",
       "      <td>10.9897</td>\n",
       "      <td>6.3402</td>\n",
       "    </tr>\n",
       "    <tr>\n",
       "      <th>CIEL EXPRIM INDIVIDUAL</th>\n",
       "      <td>2.1134</td>\n",
       "      <td>2.1134</td>\n",
       "      <td>0.0000</td>\n",
       "    </tr>\n",
       "    <tr>\n",
       "      <th>COCA-COLA CAFÉ INDIVIDUAL</th>\n",
       "      <td>-0.2483</td>\n",
       "      <td>0.2483</td>\n",
       "      <td>0.0000</td>\n",
       "    </tr>\n",
       "    <tr>\n",
       "      <th>COCA-COLA ENERGY INDIVIDUAL</th>\n",
       "      <td>0.2483</td>\n",
       "      <td>0.0000</td>\n",
       "      <td>0.0000</td>\n",
       "    </tr>\n",
       "  </tbody>\n",
       "</table>\n",
       "</div>"
      ],
      "text/plain": [
       "                                            delta_1  delta_2  delta_3\n",
       "CustomerId product                                                   \n",
       "500000101  CIEL AGUA PURIFICADA FAMILIAR    -3.5224   3.5224   3.5224\n",
       "           CIEL AGUA PURIFICADA INDIVIDUAL  11.2010  10.9897   6.3402\n",
       "           CIEL EXPRIM INDIVIDUAL            2.1134   2.1134   0.0000\n",
       "           COCA-COLA CAFÉ INDIVIDUAL        -0.2483   0.2483   0.0000\n",
       "           COCA-COLA ENERGY INDIVIDUAL       0.2483   0.0000   0.0000"
      ]
     },
     "execution_count": 140,
     "metadata": {},
     "output_type": "execute_result"
    }
   ],
   "source": [
    "deltas.head()"
   ]
  },
  {
   "cell_type": "code",
   "execution_count": 141,
   "metadata": {},
   "outputs": [
    {
     "name": "stdout",
     "output_type": "stream",
     "text": [
      "19104\n"
     ]
    }
   ],
   "source": [
    "print(len(uniqueCustomers))"
   ]
  },
  {
   "cell_type": "code",
   "execution_count": 142,
   "metadata": {},
   "outputs": [],
   "source": [
    "dfAcumulados = pd.DataFrame(columns = uniqueProductos, index = uniqueProductos)\n",
    "dfAcumulados = dfAcumulados.fillna(0)"
   ]
  },
  {
   "cell_type": "code",
   "execution_count": 143,
   "metadata": {},
   "outputs": [],
   "source": [
    "startTime = time.time()\n",
    "cantEntradas = 0\n",
    "\n",
    "for custId in uniqueCustomers[:1]:\n",
    "    #print(custId)\n",
    "    \n",
    "    #Se seleccionana todos los productos del custId especificado\n",
    "    nuevoDfVentas = ventasRaw.loc[custId,:]\n",
    "    cantEntradas = cantEntradas + len(nuevoDfVentas)\n",
    "    dfTempVentas = pd.DataFrame(index = uniqueProductos)\n",
    "    dfTempVentas = dfTempVentas.add(nuevoDfVentas, fill_value=0)\n",
    "    dfTempVentas = dfTempVentas.fillna(0.0)\n",
    "    nuevoDfVentas = dfTempVentas\n",
    "    \n",
    "    #Se transpone el Data Frame\n",
    "    nuevoDfVentas = nuevoDfVentas.transpose()\n",
    "    \n",
    "    #Se calcula la correlación\n",
    "    corrNueva = nuevoDfVentas.corr()\n",
    "    corrNueva = corrNueva.fillna(0.0)\n",
    "    \n",
    "    #Se crea un Data Frame con valores verdaderos o falsos\n",
    "    dfCanibalizacion = corrNueva.applymap(lambda x: 1 if x < -0.75 else 0)\n",
    "    \n",
    "    #Se suman los valores actuales con los arrojados si se cree que hay canibalización entre productos\n",
    "    dfTempCani = pd.DataFrame(columns = uniqueProductos, index = uniqueProductos)\n",
    "    dfTempCani = dfTempCani.add(dfCanibalizacion, fill_value = 0)\n",
    "    dfTempCani = dfTempCani.fillna(0)\n",
    "    dfAcumulados = dfAcumulados.add(dfTempCani, fill_value=0)\n",
    "\n",
    "endTime = time.time()"
   ]
  },
  {
   "cell_type": "markdown",
   "metadata": {},
   "source": [
    "# Se lee el csv generado de los resultados anteriores"
   ]
  },
  {
   "cell_type": "code",
   "execution_count": 37,
   "metadata": {},
   "outputs": [],
   "source": [
    "# Se lee la matriz de resultados del csv correspondiente\n",
    "dfNewAcumulados = pd.read_csv(\"dfAcumuladosVentas(Todos).csv\")"
   ]
  },
  {
   "cell_type": "code",
   "execution_count": 38,
   "metadata": {
    "scrolled": true
   },
   "outputs": [],
   "source": [
    "dfNewAcumulados = dfNewAcumulados.set_index(\"Unnamed: 0\")"
   ]
  },
  {
   "cell_type": "code",
   "execution_count": 39,
   "metadata": {},
   "outputs": [],
   "source": [
    "dfTempAcumulados = dfNewAcumulados.applymap(lambda x: x if x >= 95 else 0)"
   ]
  },
  {
   "cell_type": "code",
   "execution_count": 40,
   "metadata": {},
   "outputs": [],
   "source": [
    "dfTempAcumulados = dfTempAcumulados[dfTempAcumulados.sum() > 0]"
   ]
  },
  {
   "cell_type": "code",
   "execution_count": 41,
   "metadata": {},
   "outputs": [],
   "source": [
    "indexTempAcumulados = dfTempAcumulados.index\n",
    "labels = list(indexTempAcumulados)\n",
    "labels.extend(list(indexTempAcumulados))\n",
    "dictAgrupaciones = dict()\n",
    "sources = list()\n",
    "targets = list()\n",
    "values = list()\n",
    "\n",
    "for idx in range(len(indexTempAcumulados)):\n",
    "    for jdx in range(len(indexTempAcumulados)):\n",
    "        valueToEvaluate = dfTempAcumulados[indexTempAcumulados[idx]][indexTempAcumulados[jdx]]\n",
    "        \n",
    "        if valueToEvaluate > 0:\n",
    "            fuente = labels[idx]\n",
    "            destino = labels[jdx]\n",
    "\n",
    "            if not fuente in dictAgrupaciones.keys():\n",
    "                dictAgrupaciones[fuente] = list()\n",
    "\n",
    "            dictAgrupaciones[fuente].append(destino)\n",
    "            sources.append(idx)\n",
    "            targets.append(len(indexTempAcumulados) + jdx)\n",
    "            values.append(valueToEvaluate)"
   ]
  },
  {
   "cell_type": "code",
   "execution_count": 42,
   "metadata": {},
   "outputs": [],
   "source": [
    "fig = go.Figure(data=[go.Sankey(\n",
    "    node = dict(\n",
    "        pad = 15,\n",
    "        thickness = 20,\n",
    "        line = dict(color = \"black\", width = 0.5),\n",
    "        label = labels,\n",
    "        color = \"blue\"\n",
    "    ),\n",
    "    link = dict(\n",
    "        source = sources,\n",
    "        target = targets,\n",
    "        value = values,\n",
    "        \n",
    "    )\n",
    ")])"
   ]
  },
  {
   "cell_type": "code",
   "execution_count": 43,
   "metadata": {
    "scrolled": false
   },
   "outputs": [
    {
     "data": {
      "application/vnd.plotly.v1+json": {
       "config": {
        "plotlyServerURL": "https://plot.ly"
       },
       "data": [
        {
         "link": {
          "source": [
           0,
           0,
           0,
           1,
           2,
           2,
           2,
           2,
           3,
           3,
           4,
           5,
           5,
           6,
           6,
           6,
           6,
           6,
           6,
           6,
           7,
           7,
           7,
           7,
           7,
           8,
           8,
           8,
           8,
           8,
           8,
           8,
           8,
           8,
           8,
           8,
           9,
           9,
           9,
           10,
           10,
           10,
           10,
           10,
           10,
           10,
           10,
           11,
           11,
           11,
           11,
           11,
           11,
           12,
           13,
           13,
           13,
           13,
           13,
           14,
           14,
           14,
           14,
           14
          ],
          "target": [
           21,
           23,
           24,
           25,
           22,
           23,
           25,
           26,
           23,
           25,
           23,
           23,
           29,
           15,
           22,
           23,
           25,
           26,
           28,
           29,
           17,
           21,
           23,
           25,
           26,
           15,
           17,
           18,
           19,
           20,
           21,
           22,
           25,
           27,
           28,
           29,
           15,
           28,
           29,
           16,
           17,
           18,
           21,
           22,
           23,
           26,
           28,
           17,
           21,
           22,
           25,
           28,
           29,
           23,
           21,
           23,
           24,
           25,
           26,
           20,
           21,
           23,
           24,
           26
          ],
          "value": [
           109,
           104,
           103,
           95,
           105,
           109,
           97,
           105,
           104,
           101,
           96,
           112,
           105,
           109,
           109,
           105,
           116,
           100,
           102,
           111,
           105,
           109,
           112,
           102,
           109,
           104,
           109,
           104,
           96,
           112,
           105,
           112,
           98,
           104,
           110,
           115,
           103,
           95,
           113,
           95,
           97,
           101,
           116,
           102,
           98,
           119,
           108,
           105,
           100,
           109,
           119,
           117,
           115,
           104,
           102,
           110,
           95,
           108,
           117,
           105,
           111,
           115,
           113,
           115
          ]
         },
         "node": {
          "color": "blue",
          "label": [
           "CIEL AGUA PURIFICADA FAMILIAR",
           "CIEL AGUA PURIFICADA INDIVIDUAL",
           "CIEL EXPRIM INDIVIDUAL",
           "COCA-COLA LIGHT FAMILIAR",
           "COCA-COLA LIGHT INDIVIDUAL",
           "COCA-COLA SIN AZÚCAR INDIVIDUAL",
           "DEL VALLE Y NADA INDIVIDUAL",
           "FANTA FAMILIAR",
           "FANTA INDIVIDUAL",
           "FRESCA INDIVIDUAL",
           "SIDRAL MUNDET INDIVIDUAL",
           "SPRITE INDIVIDUAL",
           "TOPO CHICO A.M. INDIVIDUAL",
           "VALLE FRUT FAMILIAR",
           "VALLE FRUT INDIVIDUAL",
           "CIEL AGUA PURIFICADA FAMILIAR",
           "CIEL AGUA PURIFICADA INDIVIDUAL",
           "CIEL EXPRIM INDIVIDUAL",
           "COCA-COLA LIGHT FAMILIAR",
           "COCA-COLA LIGHT INDIVIDUAL",
           "COCA-COLA SIN AZÚCAR INDIVIDUAL",
           "DEL VALLE Y NADA INDIVIDUAL",
           "FANTA FAMILIAR",
           "FANTA INDIVIDUAL",
           "FRESCA INDIVIDUAL",
           "SIDRAL MUNDET INDIVIDUAL",
           "SPRITE INDIVIDUAL",
           "TOPO CHICO A.M. INDIVIDUAL",
           "VALLE FRUT FAMILIAR",
           "VALLE FRUT INDIVIDUAL"
          ],
          "line": {
           "color": "black",
           "width": 0.5
          },
          "pad": 15,
          "thickness": 20
         },
         "type": "sankey"
        }
       ],
       "layout": {
        "font": {
         "size": 10
        },
        "template": {
         "data": {
          "bar": [
           {
            "error_x": {
             "color": "#2a3f5f"
            },
            "error_y": {
             "color": "#2a3f5f"
            },
            "marker": {
             "line": {
              "color": "#E5ECF6",
              "width": 0.5
             }
            },
            "type": "bar"
           }
          ],
          "barpolar": [
           {
            "marker": {
             "line": {
              "color": "#E5ECF6",
              "width": 0.5
             }
            },
            "type": "barpolar"
           }
          ],
          "carpet": [
           {
            "aaxis": {
             "endlinecolor": "#2a3f5f",
             "gridcolor": "white",
             "linecolor": "white",
             "minorgridcolor": "white",
             "startlinecolor": "#2a3f5f"
            },
            "baxis": {
             "endlinecolor": "#2a3f5f",
             "gridcolor": "white",
             "linecolor": "white",
             "minorgridcolor": "white",
             "startlinecolor": "#2a3f5f"
            },
            "type": "carpet"
           }
          ],
          "choropleth": [
           {
            "colorbar": {
             "outlinewidth": 0,
             "ticks": ""
            },
            "type": "choropleth"
           }
          ],
          "contour": [
           {
            "colorbar": {
             "outlinewidth": 0,
             "ticks": ""
            },
            "colorscale": [
             [
              0,
              "#0d0887"
             ],
             [
              0.1111111111111111,
              "#46039f"
             ],
             [
              0.2222222222222222,
              "#7201a8"
             ],
             [
              0.3333333333333333,
              "#9c179e"
             ],
             [
              0.4444444444444444,
              "#bd3786"
             ],
             [
              0.5555555555555556,
              "#d8576b"
             ],
             [
              0.6666666666666666,
              "#ed7953"
             ],
             [
              0.7777777777777778,
              "#fb9f3a"
             ],
             [
              0.8888888888888888,
              "#fdca26"
             ],
             [
              1,
              "#f0f921"
             ]
            ],
            "type": "contour"
           }
          ],
          "contourcarpet": [
           {
            "colorbar": {
             "outlinewidth": 0,
             "ticks": ""
            },
            "type": "contourcarpet"
           }
          ],
          "heatmap": [
           {
            "colorbar": {
             "outlinewidth": 0,
             "ticks": ""
            },
            "colorscale": [
             [
              0,
              "#0d0887"
             ],
             [
              0.1111111111111111,
              "#46039f"
             ],
             [
              0.2222222222222222,
              "#7201a8"
             ],
             [
              0.3333333333333333,
              "#9c179e"
             ],
             [
              0.4444444444444444,
              "#bd3786"
             ],
             [
              0.5555555555555556,
              "#d8576b"
             ],
             [
              0.6666666666666666,
              "#ed7953"
             ],
             [
              0.7777777777777778,
              "#fb9f3a"
             ],
             [
              0.8888888888888888,
              "#fdca26"
             ],
             [
              1,
              "#f0f921"
             ]
            ],
            "type": "heatmap"
           }
          ],
          "heatmapgl": [
           {
            "colorbar": {
             "outlinewidth": 0,
             "ticks": ""
            },
            "colorscale": [
             [
              0,
              "#0d0887"
             ],
             [
              0.1111111111111111,
              "#46039f"
             ],
             [
              0.2222222222222222,
              "#7201a8"
             ],
             [
              0.3333333333333333,
              "#9c179e"
             ],
             [
              0.4444444444444444,
              "#bd3786"
             ],
             [
              0.5555555555555556,
              "#d8576b"
             ],
             [
              0.6666666666666666,
              "#ed7953"
             ],
             [
              0.7777777777777778,
              "#fb9f3a"
             ],
             [
              0.8888888888888888,
              "#fdca26"
             ],
             [
              1,
              "#f0f921"
             ]
            ],
            "type": "heatmapgl"
           }
          ],
          "histogram": [
           {
            "marker": {
             "colorbar": {
              "outlinewidth": 0,
              "ticks": ""
             }
            },
            "type": "histogram"
           }
          ],
          "histogram2d": [
           {
            "colorbar": {
             "outlinewidth": 0,
             "ticks": ""
            },
            "colorscale": [
             [
              0,
              "#0d0887"
             ],
             [
              0.1111111111111111,
              "#46039f"
             ],
             [
              0.2222222222222222,
              "#7201a8"
             ],
             [
              0.3333333333333333,
              "#9c179e"
             ],
             [
              0.4444444444444444,
              "#bd3786"
             ],
             [
              0.5555555555555556,
              "#d8576b"
             ],
             [
              0.6666666666666666,
              "#ed7953"
             ],
             [
              0.7777777777777778,
              "#fb9f3a"
             ],
             [
              0.8888888888888888,
              "#fdca26"
             ],
             [
              1,
              "#f0f921"
             ]
            ],
            "type": "histogram2d"
           }
          ],
          "histogram2dcontour": [
           {
            "colorbar": {
             "outlinewidth": 0,
             "ticks": ""
            },
            "colorscale": [
             [
              0,
              "#0d0887"
             ],
             [
              0.1111111111111111,
              "#46039f"
             ],
             [
              0.2222222222222222,
              "#7201a8"
             ],
             [
              0.3333333333333333,
              "#9c179e"
             ],
             [
              0.4444444444444444,
              "#bd3786"
             ],
             [
              0.5555555555555556,
              "#d8576b"
             ],
             [
              0.6666666666666666,
              "#ed7953"
             ],
             [
              0.7777777777777778,
              "#fb9f3a"
             ],
             [
              0.8888888888888888,
              "#fdca26"
             ],
             [
              1,
              "#f0f921"
             ]
            ],
            "type": "histogram2dcontour"
           }
          ],
          "mesh3d": [
           {
            "colorbar": {
             "outlinewidth": 0,
             "ticks": ""
            },
            "type": "mesh3d"
           }
          ],
          "parcoords": [
           {
            "line": {
             "colorbar": {
              "outlinewidth": 0,
              "ticks": ""
             }
            },
            "type": "parcoords"
           }
          ],
          "pie": [
           {
            "automargin": true,
            "type": "pie"
           }
          ],
          "scatter": [
           {
            "marker": {
             "colorbar": {
              "outlinewidth": 0,
              "ticks": ""
             }
            },
            "type": "scatter"
           }
          ],
          "scatter3d": [
           {
            "line": {
             "colorbar": {
              "outlinewidth": 0,
              "ticks": ""
             }
            },
            "marker": {
             "colorbar": {
              "outlinewidth": 0,
              "ticks": ""
             }
            },
            "type": "scatter3d"
           }
          ],
          "scattercarpet": [
           {
            "marker": {
             "colorbar": {
              "outlinewidth": 0,
              "ticks": ""
             }
            },
            "type": "scattercarpet"
           }
          ],
          "scattergeo": [
           {
            "marker": {
             "colorbar": {
              "outlinewidth": 0,
              "ticks": ""
             }
            },
            "type": "scattergeo"
           }
          ],
          "scattergl": [
           {
            "marker": {
             "colorbar": {
              "outlinewidth": 0,
              "ticks": ""
             }
            },
            "type": "scattergl"
           }
          ],
          "scattermapbox": [
           {
            "marker": {
             "colorbar": {
              "outlinewidth": 0,
              "ticks": ""
             }
            },
            "type": "scattermapbox"
           }
          ],
          "scatterpolar": [
           {
            "marker": {
             "colorbar": {
              "outlinewidth": 0,
              "ticks": ""
             }
            },
            "type": "scatterpolar"
           }
          ],
          "scatterpolargl": [
           {
            "marker": {
             "colorbar": {
              "outlinewidth": 0,
              "ticks": ""
             }
            },
            "type": "scatterpolargl"
           }
          ],
          "scatterternary": [
           {
            "marker": {
             "colorbar": {
              "outlinewidth": 0,
              "ticks": ""
             }
            },
            "type": "scatterternary"
           }
          ],
          "surface": [
           {
            "colorbar": {
             "outlinewidth": 0,
             "ticks": ""
            },
            "colorscale": [
             [
              0,
              "#0d0887"
             ],
             [
              0.1111111111111111,
              "#46039f"
             ],
             [
              0.2222222222222222,
              "#7201a8"
             ],
             [
              0.3333333333333333,
              "#9c179e"
             ],
             [
              0.4444444444444444,
              "#bd3786"
             ],
             [
              0.5555555555555556,
              "#d8576b"
             ],
             [
              0.6666666666666666,
              "#ed7953"
             ],
             [
              0.7777777777777778,
              "#fb9f3a"
             ],
             [
              0.8888888888888888,
              "#fdca26"
             ],
             [
              1,
              "#f0f921"
             ]
            ],
            "type": "surface"
           }
          ],
          "table": [
           {
            "cells": {
             "fill": {
              "color": "#EBF0F8"
             },
             "line": {
              "color": "white"
             }
            },
            "header": {
             "fill": {
              "color": "#C8D4E3"
             },
             "line": {
              "color": "white"
             }
            },
            "type": "table"
           }
          ]
         },
         "layout": {
          "annotationdefaults": {
           "arrowcolor": "#2a3f5f",
           "arrowhead": 0,
           "arrowwidth": 1
          },
          "coloraxis": {
           "colorbar": {
            "outlinewidth": 0,
            "ticks": ""
           }
          },
          "colorscale": {
           "diverging": [
            [
             0,
             "#8e0152"
            ],
            [
             0.1,
             "#c51b7d"
            ],
            [
             0.2,
             "#de77ae"
            ],
            [
             0.3,
             "#f1b6da"
            ],
            [
             0.4,
             "#fde0ef"
            ],
            [
             0.5,
             "#f7f7f7"
            ],
            [
             0.6,
             "#e6f5d0"
            ],
            [
             0.7,
             "#b8e186"
            ],
            [
             0.8,
             "#7fbc41"
            ],
            [
             0.9,
             "#4d9221"
            ],
            [
             1,
             "#276419"
            ]
           ],
           "sequential": [
            [
             0,
             "#0d0887"
            ],
            [
             0.1111111111111111,
             "#46039f"
            ],
            [
             0.2222222222222222,
             "#7201a8"
            ],
            [
             0.3333333333333333,
             "#9c179e"
            ],
            [
             0.4444444444444444,
             "#bd3786"
            ],
            [
             0.5555555555555556,
             "#d8576b"
            ],
            [
             0.6666666666666666,
             "#ed7953"
            ],
            [
             0.7777777777777778,
             "#fb9f3a"
            ],
            [
             0.8888888888888888,
             "#fdca26"
            ],
            [
             1,
             "#f0f921"
            ]
           ],
           "sequentialminus": [
            [
             0,
             "#0d0887"
            ],
            [
             0.1111111111111111,
             "#46039f"
            ],
            [
             0.2222222222222222,
             "#7201a8"
            ],
            [
             0.3333333333333333,
             "#9c179e"
            ],
            [
             0.4444444444444444,
             "#bd3786"
            ],
            [
             0.5555555555555556,
             "#d8576b"
            ],
            [
             0.6666666666666666,
             "#ed7953"
            ],
            [
             0.7777777777777778,
             "#fb9f3a"
            ],
            [
             0.8888888888888888,
             "#fdca26"
            ],
            [
             1,
             "#f0f921"
            ]
           ]
          },
          "colorway": [
           "#636efa",
           "#EF553B",
           "#00cc96",
           "#ab63fa",
           "#FFA15A",
           "#19d3f3",
           "#FF6692",
           "#B6E880",
           "#FF97FF",
           "#FECB52"
          ],
          "font": {
           "color": "#2a3f5f"
          },
          "geo": {
           "bgcolor": "white",
           "lakecolor": "white",
           "landcolor": "#E5ECF6",
           "showlakes": true,
           "showland": true,
           "subunitcolor": "white"
          },
          "hoverlabel": {
           "align": "left"
          },
          "hovermode": "closest",
          "mapbox": {
           "style": "light"
          },
          "paper_bgcolor": "white",
          "plot_bgcolor": "#E5ECF6",
          "polar": {
           "angularaxis": {
            "gridcolor": "white",
            "linecolor": "white",
            "ticks": ""
           },
           "bgcolor": "#E5ECF6",
           "radialaxis": {
            "gridcolor": "white",
            "linecolor": "white",
            "ticks": ""
           }
          },
          "scene": {
           "xaxis": {
            "backgroundcolor": "#E5ECF6",
            "gridcolor": "white",
            "gridwidth": 2,
            "linecolor": "white",
            "showbackground": true,
            "ticks": "",
            "zerolinecolor": "white"
           },
           "yaxis": {
            "backgroundcolor": "#E5ECF6",
            "gridcolor": "white",
            "gridwidth": 2,
            "linecolor": "white",
            "showbackground": true,
            "ticks": "",
            "zerolinecolor": "white"
           },
           "zaxis": {
            "backgroundcolor": "#E5ECF6",
            "gridcolor": "white",
            "gridwidth": 2,
            "linecolor": "white",
            "showbackground": true,
            "ticks": "",
            "zerolinecolor": "white"
           }
          },
          "shapedefaults": {
           "line": {
            "color": "#2a3f5f"
           }
          },
          "ternary": {
           "aaxis": {
            "gridcolor": "white",
            "linecolor": "white",
            "ticks": ""
           },
           "baxis": {
            "gridcolor": "white",
            "linecolor": "white",
            "ticks": ""
           },
           "bgcolor": "#E5ECF6",
           "caxis": {
            "gridcolor": "white",
            "linecolor": "white",
            "ticks": ""
           }
          },
          "title": {
           "x": 0.05
          },
          "xaxis": {
           "automargin": true,
           "gridcolor": "white",
           "linecolor": "white",
           "ticks": "",
           "title": {
            "standoff": 15
           },
           "zerolinecolor": "white",
           "zerolinewidth": 2
          },
          "yaxis": {
           "automargin": true,
           "gridcolor": "white",
           "linecolor": "white",
           "ticks": "",
           "title": {
            "standoff": 15
           },
           "zerolinecolor": "white",
           "zerolinewidth": 2
          }
         }
        },
        "title": {
         "text": "Número de Incidencias(Mayores a 95)"
        }
       }
      },
      "text/html": [
       "<div>\n",
       "        \n",
       "        \n",
       "            <div id=\"47a74cdd-5506-4269-9dc5-a1d205f2715c\" class=\"plotly-graph-div\" style=\"height:525px; width:100%;\"></div>\n",
       "            <script type=\"text/javascript\">\n",
       "                require([\"plotly\"], function(Plotly) {\n",
       "                    window.PLOTLYENV=window.PLOTLYENV || {};\n",
       "                    \n",
       "                if (document.getElementById(\"47a74cdd-5506-4269-9dc5-a1d205f2715c\")) {\n",
       "                    Plotly.newPlot(\n",
       "                        '47a74cdd-5506-4269-9dc5-a1d205f2715c',\n",
       "                        [{\"link\": {\"source\": [0, 0, 0, 1, 2, 2, 2, 2, 3, 3, 4, 5, 5, 6, 6, 6, 6, 6, 6, 6, 7, 7, 7, 7, 7, 8, 8, 8, 8, 8, 8, 8, 8, 8, 8, 8, 9, 9, 9, 10, 10, 10, 10, 10, 10, 10, 10, 11, 11, 11, 11, 11, 11, 12, 13, 13, 13, 13, 13, 14, 14, 14, 14, 14], \"target\": [21, 23, 24, 25, 22, 23, 25, 26, 23, 25, 23, 23, 29, 15, 22, 23, 25, 26, 28, 29, 17, 21, 23, 25, 26, 15, 17, 18, 19, 20, 21, 22, 25, 27, 28, 29, 15, 28, 29, 16, 17, 18, 21, 22, 23, 26, 28, 17, 21, 22, 25, 28, 29, 23, 21, 23, 24, 25, 26, 20, 21, 23, 24, 26], \"value\": [109, 104, 103, 95, 105, 109, 97, 105, 104, 101, 96, 112, 105, 109, 109, 105, 116, 100, 102, 111, 105, 109, 112, 102, 109, 104, 109, 104, 96, 112, 105, 112, 98, 104, 110, 115, 103, 95, 113, 95, 97, 101, 116, 102, 98, 119, 108, 105, 100, 109, 119, 117, 115, 104, 102, 110, 95, 108, 117, 105, 111, 115, 113, 115]}, \"node\": {\"color\": \"blue\", \"label\": [\"CIEL AGUA PURIFICADA FAMILIAR\", \"CIEL AGUA PURIFICADA INDIVIDUAL\", \"CIEL EXPRIM INDIVIDUAL\", \"COCA-COLA LIGHT FAMILIAR\", \"COCA-COLA LIGHT INDIVIDUAL\", \"COCA-COLA SIN AZ\\u00daCAR INDIVIDUAL\", \"DEL VALLE Y NADA INDIVIDUAL\", \"FANTA FAMILIAR\", \"FANTA INDIVIDUAL\", \"FRESCA INDIVIDUAL\", \"SIDRAL MUNDET INDIVIDUAL\", \"SPRITE INDIVIDUAL\", \"TOPO CHICO A.M. INDIVIDUAL\", \"VALLE FRUT FAMILIAR\", \"VALLE FRUT INDIVIDUAL\", \"CIEL AGUA PURIFICADA FAMILIAR\", \"CIEL AGUA PURIFICADA INDIVIDUAL\", \"CIEL EXPRIM INDIVIDUAL\", \"COCA-COLA LIGHT FAMILIAR\", \"COCA-COLA LIGHT INDIVIDUAL\", \"COCA-COLA SIN AZ\\u00daCAR INDIVIDUAL\", \"DEL VALLE Y NADA INDIVIDUAL\", \"FANTA FAMILIAR\", \"FANTA INDIVIDUAL\", \"FRESCA INDIVIDUAL\", \"SIDRAL MUNDET INDIVIDUAL\", \"SPRITE INDIVIDUAL\", \"TOPO CHICO A.M. INDIVIDUAL\", \"VALLE FRUT FAMILIAR\", \"VALLE FRUT INDIVIDUAL\"], \"line\": {\"color\": \"black\", \"width\": 0.5}, \"pad\": 15, \"thickness\": 20}, \"type\": \"sankey\"}],\n",
       "                        {\"font\": {\"size\": 10}, \"template\": {\"data\": {\"bar\": [{\"error_x\": {\"color\": \"#2a3f5f\"}, \"error_y\": {\"color\": \"#2a3f5f\"}, \"marker\": {\"line\": {\"color\": \"#E5ECF6\", \"width\": 0.5}}, \"type\": \"bar\"}], \"barpolar\": [{\"marker\": {\"line\": {\"color\": \"#E5ECF6\", \"width\": 0.5}}, \"type\": \"barpolar\"}], \"carpet\": [{\"aaxis\": {\"endlinecolor\": \"#2a3f5f\", \"gridcolor\": \"white\", \"linecolor\": \"white\", \"minorgridcolor\": \"white\", \"startlinecolor\": \"#2a3f5f\"}, \"baxis\": {\"endlinecolor\": \"#2a3f5f\", \"gridcolor\": \"white\", \"linecolor\": \"white\", \"minorgridcolor\": \"white\", \"startlinecolor\": \"#2a3f5f\"}, \"type\": \"carpet\"}], \"choropleth\": [{\"colorbar\": {\"outlinewidth\": 0, \"ticks\": \"\"}, \"type\": \"choropleth\"}], \"contour\": [{\"colorbar\": {\"outlinewidth\": 0, \"ticks\": \"\"}, \"colorscale\": [[0.0, \"#0d0887\"], [0.1111111111111111, \"#46039f\"], [0.2222222222222222, \"#7201a8\"], [0.3333333333333333, \"#9c179e\"], [0.4444444444444444, \"#bd3786\"], [0.5555555555555556, \"#d8576b\"], [0.6666666666666666, \"#ed7953\"], [0.7777777777777778, \"#fb9f3a\"], [0.8888888888888888, \"#fdca26\"], [1.0, \"#f0f921\"]], \"type\": \"contour\"}], \"contourcarpet\": [{\"colorbar\": {\"outlinewidth\": 0, \"ticks\": \"\"}, \"type\": \"contourcarpet\"}], \"heatmap\": [{\"colorbar\": {\"outlinewidth\": 0, \"ticks\": \"\"}, \"colorscale\": [[0.0, \"#0d0887\"], [0.1111111111111111, \"#46039f\"], [0.2222222222222222, \"#7201a8\"], [0.3333333333333333, \"#9c179e\"], [0.4444444444444444, \"#bd3786\"], [0.5555555555555556, \"#d8576b\"], [0.6666666666666666, \"#ed7953\"], [0.7777777777777778, \"#fb9f3a\"], [0.8888888888888888, \"#fdca26\"], [1.0, \"#f0f921\"]], \"type\": \"heatmap\"}], \"heatmapgl\": [{\"colorbar\": {\"outlinewidth\": 0, \"ticks\": \"\"}, \"colorscale\": [[0.0, \"#0d0887\"], [0.1111111111111111, \"#46039f\"], [0.2222222222222222, \"#7201a8\"], [0.3333333333333333, \"#9c179e\"], [0.4444444444444444, \"#bd3786\"], [0.5555555555555556, \"#d8576b\"], [0.6666666666666666, \"#ed7953\"], [0.7777777777777778, \"#fb9f3a\"], [0.8888888888888888, \"#fdca26\"], [1.0, \"#f0f921\"]], \"type\": \"heatmapgl\"}], \"histogram\": [{\"marker\": {\"colorbar\": {\"outlinewidth\": 0, \"ticks\": \"\"}}, \"type\": \"histogram\"}], \"histogram2d\": [{\"colorbar\": {\"outlinewidth\": 0, \"ticks\": \"\"}, \"colorscale\": [[0.0, \"#0d0887\"], [0.1111111111111111, \"#46039f\"], [0.2222222222222222, \"#7201a8\"], [0.3333333333333333, \"#9c179e\"], [0.4444444444444444, \"#bd3786\"], [0.5555555555555556, \"#d8576b\"], [0.6666666666666666, \"#ed7953\"], [0.7777777777777778, \"#fb9f3a\"], [0.8888888888888888, \"#fdca26\"], [1.0, \"#f0f921\"]], \"type\": \"histogram2d\"}], \"histogram2dcontour\": [{\"colorbar\": {\"outlinewidth\": 0, \"ticks\": \"\"}, \"colorscale\": [[0.0, \"#0d0887\"], [0.1111111111111111, \"#46039f\"], [0.2222222222222222, \"#7201a8\"], [0.3333333333333333, \"#9c179e\"], [0.4444444444444444, \"#bd3786\"], [0.5555555555555556, \"#d8576b\"], [0.6666666666666666, \"#ed7953\"], [0.7777777777777778, \"#fb9f3a\"], [0.8888888888888888, \"#fdca26\"], [1.0, \"#f0f921\"]], \"type\": \"histogram2dcontour\"}], \"mesh3d\": [{\"colorbar\": {\"outlinewidth\": 0, \"ticks\": \"\"}, \"type\": \"mesh3d\"}], \"parcoords\": [{\"line\": {\"colorbar\": {\"outlinewidth\": 0, \"ticks\": \"\"}}, \"type\": \"parcoords\"}], \"pie\": [{\"automargin\": true, \"type\": \"pie\"}], \"scatter\": [{\"marker\": {\"colorbar\": {\"outlinewidth\": 0, \"ticks\": \"\"}}, \"type\": \"scatter\"}], \"scatter3d\": [{\"line\": {\"colorbar\": {\"outlinewidth\": 0, \"ticks\": \"\"}}, \"marker\": {\"colorbar\": {\"outlinewidth\": 0, \"ticks\": \"\"}}, \"type\": \"scatter3d\"}], \"scattercarpet\": [{\"marker\": {\"colorbar\": {\"outlinewidth\": 0, \"ticks\": \"\"}}, \"type\": \"scattercarpet\"}], \"scattergeo\": [{\"marker\": {\"colorbar\": {\"outlinewidth\": 0, \"ticks\": \"\"}}, \"type\": \"scattergeo\"}], \"scattergl\": [{\"marker\": {\"colorbar\": {\"outlinewidth\": 0, \"ticks\": \"\"}}, \"type\": \"scattergl\"}], \"scattermapbox\": [{\"marker\": {\"colorbar\": {\"outlinewidth\": 0, \"ticks\": \"\"}}, \"type\": \"scattermapbox\"}], \"scatterpolar\": [{\"marker\": {\"colorbar\": {\"outlinewidth\": 0, \"ticks\": \"\"}}, \"type\": \"scatterpolar\"}], \"scatterpolargl\": [{\"marker\": {\"colorbar\": {\"outlinewidth\": 0, \"ticks\": \"\"}}, \"type\": \"scatterpolargl\"}], \"scatterternary\": [{\"marker\": {\"colorbar\": {\"outlinewidth\": 0, \"ticks\": \"\"}}, \"type\": \"scatterternary\"}], \"surface\": [{\"colorbar\": {\"outlinewidth\": 0, \"ticks\": \"\"}, \"colorscale\": [[0.0, \"#0d0887\"], [0.1111111111111111, \"#46039f\"], [0.2222222222222222, \"#7201a8\"], [0.3333333333333333, \"#9c179e\"], [0.4444444444444444, \"#bd3786\"], [0.5555555555555556, \"#d8576b\"], [0.6666666666666666, \"#ed7953\"], [0.7777777777777778, \"#fb9f3a\"], [0.8888888888888888, \"#fdca26\"], [1.0, \"#f0f921\"]], \"type\": \"surface\"}], \"table\": [{\"cells\": {\"fill\": {\"color\": \"#EBF0F8\"}, \"line\": {\"color\": \"white\"}}, \"header\": {\"fill\": {\"color\": \"#C8D4E3\"}, \"line\": {\"color\": \"white\"}}, \"type\": \"table\"}]}, \"layout\": {\"annotationdefaults\": {\"arrowcolor\": \"#2a3f5f\", \"arrowhead\": 0, \"arrowwidth\": 1}, \"coloraxis\": {\"colorbar\": {\"outlinewidth\": 0, \"ticks\": \"\"}}, \"colorscale\": {\"diverging\": [[0, \"#8e0152\"], [0.1, \"#c51b7d\"], [0.2, \"#de77ae\"], [0.3, \"#f1b6da\"], [0.4, \"#fde0ef\"], [0.5, \"#f7f7f7\"], [0.6, \"#e6f5d0\"], [0.7, \"#b8e186\"], [0.8, \"#7fbc41\"], [0.9, \"#4d9221\"], [1, \"#276419\"]], \"sequential\": [[0.0, \"#0d0887\"], [0.1111111111111111, \"#46039f\"], [0.2222222222222222, \"#7201a8\"], [0.3333333333333333, \"#9c179e\"], [0.4444444444444444, \"#bd3786\"], [0.5555555555555556, \"#d8576b\"], [0.6666666666666666, \"#ed7953\"], [0.7777777777777778, \"#fb9f3a\"], [0.8888888888888888, \"#fdca26\"], [1.0, \"#f0f921\"]], \"sequentialminus\": [[0.0, \"#0d0887\"], [0.1111111111111111, \"#46039f\"], [0.2222222222222222, \"#7201a8\"], [0.3333333333333333, \"#9c179e\"], [0.4444444444444444, \"#bd3786\"], [0.5555555555555556, \"#d8576b\"], [0.6666666666666666, \"#ed7953\"], [0.7777777777777778, \"#fb9f3a\"], [0.8888888888888888, \"#fdca26\"], [1.0, \"#f0f921\"]]}, \"colorway\": [\"#636efa\", \"#EF553B\", \"#00cc96\", \"#ab63fa\", \"#FFA15A\", \"#19d3f3\", \"#FF6692\", \"#B6E880\", \"#FF97FF\", \"#FECB52\"], \"font\": {\"color\": \"#2a3f5f\"}, \"geo\": {\"bgcolor\": \"white\", \"lakecolor\": \"white\", \"landcolor\": \"#E5ECF6\", \"showlakes\": true, \"showland\": true, \"subunitcolor\": \"white\"}, \"hoverlabel\": {\"align\": \"left\"}, \"hovermode\": \"closest\", \"mapbox\": {\"style\": \"light\"}, \"paper_bgcolor\": \"white\", \"plot_bgcolor\": \"#E5ECF6\", \"polar\": {\"angularaxis\": {\"gridcolor\": \"white\", \"linecolor\": \"white\", \"ticks\": \"\"}, \"bgcolor\": \"#E5ECF6\", \"radialaxis\": {\"gridcolor\": \"white\", \"linecolor\": \"white\", \"ticks\": \"\"}}, \"scene\": {\"xaxis\": {\"backgroundcolor\": \"#E5ECF6\", \"gridcolor\": \"white\", \"gridwidth\": 2, \"linecolor\": \"white\", \"showbackground\": true, \"ticks\": \"\", \"zerolinecolor\": \"white\"}, \"yaxis\": {\"backgroundcolor\": \"#E5ECF6\", \"gridcolor\": \"white\", \"gridwidth\": 2, \"linecolor\": \"white\", \"showbackground\": true, \"ticks\": \"\", \"zerolinecolor\": \"white\"}, \"zaxis\": {\"backgroundcolor\": \"#E5ECF6\", \"gridcolor\": \"white\", \"gridwidth\": 2, \"linecolor\": \"white\", \"showbackground\": true, \"ticks\": \"\", \"zerolinecolor\": \"white\"}}, \"shapedefaults\": {\"line\": {\"color\": \"#2a3f5f\"}}, \"ternary\": {\"aaxis\": {\"gridcolor\": \"white\", \"linecolor\": \"white\", \"ticks\": \"\"}, \"baxis\": {\"gridcolor\": \"white\", \"linecolor\": \"white\", \"ticks\": \"\"}, \"bgcolor\": \"#E5ECF6\", \"caxis\": {\"gridcolor\": \"white\", \"linecolor\": \"white\", \"ticks\": \"\"}}, \"title\": {\"x\": 0.05}, \"xaxis\": {\"automargin\": true, \"gridcolor\": \"white\", \"linecolor\": \"white\", \"ticks\": \"\", \"title\": {\"standoff\": 15}, \"zerolinecolor\": \"white\", \"zerolinewidth\": 2}, \"yaxis\": {\"automargin\": true, \"gridcolor\": \"white\", \"linecolor\": \"white\", \"ticks\": \"\", \"title\": {\"standoff\": 15}, \"zerolinecolor\": \"white\", \"zerolinewidth\": 2}}}, \"title\": {\"text\": \"N\\u00famero de Incidencias(Mayores a 95)\"}},\n",
       "                        {\"responsive\": true}\n",
       "                    ).then(function(){\n",
       "                            \n",
       "var gd = document.getElementById('47a74cdd-5506-4269-9dc5-a1d205f2715c');\n",
       "var x = new MutationObserver(function (mutations, observer) {{\n",
       "        var display = window.getComputedStyle(gd).display;\n",
       "        if (!display || display === 'none') {{\n",
       "            console.log([gd, 'removed!']);\n",
       "            Plotly.purge(gd);\n",
       "            observer.disconnect();\n",
       "        }}\n",
       "}});\n",
       "\n",
       "// Listen for the removal of the full notebook cells\n",
       "var notebookContainer = gd.closest('#notebook-container');\n",
       "if (notebookContainer) {{\n",
       "    x.observe(notebookContainer, {childList: true});\n",
       "}}\n",
       "\n",
       "// Listen for the clearing of the current output cell\n",
       "var outputEl = gd.closest('.output');\n",
       "if (outputEl) {{\n",
       "    x.observe(outputEl, {childList: true});\n",
       "}}\n",
       "\n",
       "                        })\n",
       "                };\n",
       "                });\n",
       "            </script>\n",
       "        </div>"
      ]
     },
     "metadata": {},
     "output_type": "display_data"
    }
   ],
   "source": [
    "fig.update_layout(title_text = \"Número de Incidencias(Mayores a 95)\", font_size = 10)\n",
    "fig.show()"
   ]
  },
  {
   "cell_type": "code",
   "execution_count": 44,
   "metadata": {},
   "outputs": [
    {
     "data": {
      "text/plain": [
       "{'CIEL AGUA PURIFICADA FAMILIAR': ['DEL VALLE Y NADA INDIVIDUAL',\n",
       "  'FANTA INDIVIDUAL',\n",
       "  'FRESCA INDIVIDUAL'],\n",
       " 'CIEL AGUA PURIFICADA INDIVIDUAL': ['SIDRAL MUNDET INDIVIDUAL'],\n",
       " 'CIEL EXPRIM INDIVIDUAL': ['FANTA FAMILIAR',\n",
       "  'FANTA INDIVIDUAL',\n",
       "  'SIDRAL MUNDET INDIVIDUAL',\n",
       "  'SPRITE INDIVIDUAL'],\n",
       " 'COCA-COLA LIGHT FAMILIAR': ['FANTA INDIVIDUAL', 'SIDRAL MUNDET INDIVIDUAL'],\n",
       " 'COCA-COLA LIGHT INDIVIDUAL': ['FANTA INDIVIDUAL'],\n",
       " 'COCA-COLA SIN AZÚCAR INDIVIDUAL': ['FANTA INDIVIDUAL',\n",
       "  'VALLE FRUT INDIVIDUAL'],\n",
       " 'DEL VALLE Y NADA INDIVIDUAL': ['CIEL AGUA PURIFICADA FAMILIAR',\n",
       "  'FANTA FAMILIAR',\n",
       "  'FANTA INDIVIDUAL',\n",
       "  'SIDRAL MUNDET INDIVIDUAL',\n",
       "  'SPRITE INDIVIDUAL',\n",
       "  'VALLE FRUT FAMILIAR',\n",
       "  'VALLE FRUT INDIVIDUAL'],\n",
       " 'FANTA FAMILIAR': ['CIEL EXPRIM INDIVIDUAL',\n",
       "  'DEL VALLE Y NADA INDIVIDUAL',\n",
       "  'FANTA INDIVIDUAL',\n",
       "  'SIDRAL MUNDET INDIVIDUAL',\n",
       "  'SPRITE INDIVIDUAL'],\n",
       " 'FANTA INDIVIDUAL': ['CIEL AGUA PURIFICADA FAMILIAR',\n",
       "  'CIEL EXPRIM INDIVIDUAL',\n",
       "  'COCA-COLA LIGHT FAMILIAR',\n",
       "  'COCA-COLA LIGHT INDIVIDUAL',\n",
       "  'COCA-COLA SIN AZÚCAR INDIVIDUAL',\n",
       "  'DEL VALLE Y NADA INDIVIDUAL',\n",
       "  'FANTA FAMILIAR',\n",
       "  'SIDRAL MUNDET INDIVIDUAL',\n",
       "  'TOPO CHICO A.M. INDIVIDUAL',\n",
       "  'VALLE FRUT FAMILIAR',\n",
       "  'VALLE FRUT INDIVIDUAL'],\n",
       " 'FRESCA INDIVIDUAL': ['CIEL AGUA PURIFICADA FAMILIAR',\n",
       "  'VALLE FRUT FAMILIAR',\n",
       "  'VALLE FRUT INDIVIDUAL'],\n",
       " 'SIDRAL MUNDET INDIVIDUAL': ['CIEL AGUA PURIFICADA INDIVIDUAL',\n",
       "  'CIEL EXPRIM INDIVIDUAL',\n",
       "  'COCA-COLA LIGHT FAMILIAR',\n",
       "  'DEL VALLE Y NADA INDIVIDUAL',\n",
       "  'FANTA FAMILIAR',\n",
       "  'FANTA INDIVIDUAL',\n",
       "  'SPRITE INDIVIDUAL',\n",
       "  'VALLE FRUT FAMILIAR'],\n",
       " 'SPRITE INDIVIDUAL': ['CIEL EXPRIM INDIVIDUAL',\n",
       "  'DEL VALLE Y NADA INDIVIDUAL',\n",
       "  'FANTA FAMILIAR',\n",
       "  'SIDRAL MUNDET INDIVIDUAL',\n",
       "  'VALLE FRUT FAMILIAR',\n",
       "  'VALLE FRUT INDIVIDUAL'],\n",
       " 'TOPO CHICO A.M. INDIVIDUAL': ['FANTA INDIVIDUAL'],\n",
       " 'VALLE FRUT FAMILIAR': ['DEL VALLE Y NADA INDIVIDUAL',\n",
       "  'FANTA INDIVIDUAL',\n",
       "  'FRESCA INDIVIDUAL',\n",
       "  'SIDRAL MUNDET INDIVIDUAL',\n",
       "  'SPRITE INDIVIDUAL'],\n",
       " 'VALLE FRUT INDIVIDUAL': ['COCA-COLA SIN AZÚCAR INDIVIDUAL',\n",
       "  'DEL VALLE Y NADA INDIVIDUAL',\n",
       "  'FANTA INDIVIDUAL',\n",
       "  'FRESCA INDIVIDUAL',\n",
       "  'SPRITE INDIVIDUAL']}"
      ]
     },
     "execution_count": 44,
     "metadata": {},
     "output_type": "execute_result"
    }
   ],
   "source": [
    "dictAgrupaciones"
   ]
  },
  {
   "cell_type": "code",
   "execution_count": null,
   "metadata": {},
   "outputs": [],
   "source": []
  }
 ],
 "metadata": {
  "kernelspec": {
   "display_name": "Python 3",
   "language": "python",
   "name": "python3"
  },
  "language_info": {
   "codemirror_mode": {
    "name": "ipython",
    "version": 3
   },
   "file_extension": ".py",
   "mimetype": "text/x-python",
   "name": "python",
   "nbconvert_exporter": "python",
   "pygments_lexer": "ipython3",
   "version": "3.7.6"
  }
 },
 "nbformat": 4,
 "nbformat_minor": 4
}
