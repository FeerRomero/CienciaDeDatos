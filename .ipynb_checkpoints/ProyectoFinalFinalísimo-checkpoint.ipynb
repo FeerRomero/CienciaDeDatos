{
 "cells": [
  {
   "cell_type": "code",
   "execution_count": 1,
   "metadata": {},
   "outputs": [],
   "source": [
    "\"\"\"\n",
    "NUEVOS DATOS\n",
    "\"\"\"\n",
    "import pandas as pd"
   ]
  },
  {
   "cell_type": "code",
   "execution_count": 2,
   "metadata": {},
   "outputs": [
    {
     "data": {
      "text/html": [
       "<div>\n",
       "<style scoped>\n",
       "    .dataframe tbody tr th:only-of-type {\n",
       "        vertical-align: middle;\n",
       "    }\n",
       "\n",
       "    .dataframe tbody tr th {\n",
       "        vertical-align: top;\n",
       "    }\n",
       "\n",
       "    .dataframe thead th {\n",
       "        text-align: right;\n",
       "    }\n",
       "</style>\n",
       "<table border=\"1\" class=\"dataframe\">\n",
       "  <thead>\n",
       "    <tr style=\"text-align: right;\">\n",
       "      <th></th>\n",
       "      <th>CustomerId</th>\n",
       "      <th>brand</th>\n",
       "      <th>size</th>\n",
       "      <th>week</th>\n",
       "      <th>Sales</th>\n",
       "    </tr>\n",
       "  </thead>\n",
       "  <tbody>\n",
       "    <tr>\n",
       "      <th>0</th>\n",
       "      <td>500277171</td>\n",
       "      <td>CIEL EXPRIM</td>\n",
       "      <td>INDIVIDUAL</td>\n",
       "      <td>202018</td>\n",
       "      <td>1.056700</td>\n",
       "    </tr>\n",
       "    <tr>\n",
       "      <th>1</th>\n",
       "      <td>500254405</td>\n",
       "      <td>COCA-COLA</td>\n",
       "      <td>FAMILIAR</td>\n",
       "      <td>202018</td>\n",
       "      <td>60.584799</td>\n",
       "    </tr>\n",
       "    <tr>\n",
       "      <th>2</th>\n",
       "      <td>500255970</td>\n",
       "      <td>JOYA</td>\n",
       "      <td>FAMILIAR</td>\n",
       "      <td>202018</td>\n",
       "      <td>35.223399</td>\n",
       "    </tr>\n",
       "    <tr>\n",
       "      <th>3</th>\n",
       "      <td>500256780</td>\n",
       "      <td>TOPO CHICO A.M.</td>\n",
       "      <td>FAMILIAR</td>\n",
       "      <td>202018</td>\n",
       "      <td>3.170200</td>\n",
       "    </tr>\n",
       "    <tr>\n",
       "      <th>4</th>\n",
       "      <td>500260292</td>\n",
       "      <td>COCA-COLA LIGHT</td>\n",
       "      <td>INDIVIDUAL</td>\n",
       "      <td>202018</td>\n",
       "      <td>6.340500</td>\n",
       "    </tr>\n",
       "  </tbody>\n",
       "</table>\n",
       "</div>"
      ],
      "text/plain": [
       "   CustomerId            brand        size    week      Sales\n",
       "0   500277171      CIEL EXPRIM  INDIVIDUAL  202018   1.056700\n",
       "1   500254405        COCA-COLA    FAMILIAR  202018  60.584799\n",
       "2   500255970             JOYA    FAMILIAR  202018  35.223399\n",
       "3   500256780  TOPO CHICO A.M.    FAMILIAR  202018   3.170200\n",
       "4   500260292  COCA-COLA LIGHT  INDIVIDUAL  202018   6.340500"
      ]
     },
     "execution_count": 2,
     "metadata": {},
     "output_type": "execute_result"
    }
   ],
   "source": [
    "df = pd.read_csv('DatosActualizados.csv')\n",
    "df.head()"
   ]
  },
  {
   "cell_type": "markdown",
   "metadata": {},
   "source": [
    "# Análisis Exploratorio"
   ]
  },
  {
   "cell_type": "code",
   "execution_count": 3,
   "metadata": {},
   "outputs": [
    {
     "data": {
      "text/plain": [
       "(814111, 5)"
      ]
     },
     "execution_count": 3,
     "metadata": {},
     "output_type": "execute_result"
    }
   ],
   "source": [
    "df.shape"
   ]
  },
  {
   "cell_type": "code",
   "execution_count": 4,
   "metadata": {},
   "outputs": [
    {
     "data": {
      "text/plain": [
       "array(['CIEL EXPRIM', 'COCA-COLA', 'JOYA', 'TOPO CHICO A.M.',\n",
       "       'COCA-COLA LIGHT', 'COCA-COLA SIN AZÚCAR', 'DEL VALLE Y NADA',\n",
       "       'VALLE FRUT', 'SPRITE', 'FANTA', 'FRESCA', 'POWERADE',\n",
       "       'CIEL AGUA PURIFICADA', 'COCA-COLA ENERGY', 'SIDRAL MUNDET',\n",
       "       'FUZE TEA', 'TOPO CHICO SANGRIA LIGHT', 'DELAWARE PUNCH', 'MIXTOS',\n",
       "       'PULPY', 'COCA-COLA CAFÉ', 'FRUTSI', 'DEL VALLE', 'TOPO CHICO',\n",
       "       'SIERRAZUL AGUA PURIFICADA', 'SANTA CLARA SABORIZADA',\n",
       "       'COCA-COLA LIGHT SIN CAFEINA', 'MONSTER ENERGY',\n",
       "       'TOPO CHICO SANGRÍA', 'SPRITE SIN AZÚCAR', 'SENZAO', 'ADES FRUTAL',\n",
       "       'MANZANA LIFT', 'DEL VALLE RESERVA', 'CIEL MINI',\n",
       "       'CIEL MINERALIZADA', 'GLACÉAU', 'SANTA CLARA DESLACTOSADA',\n",
       "       'SANTA CLARA ENTERA', 'SANTA CLARA LIGHT', 'ISOLITE',\n",
       "       'SANTA CLARA DESLACTOSADA LIGHT', 'ADES LÁCTEO', 'CAFÉ BLAK',\n",
       "       'SANTA CLARA SEMIDESCREMADA'], dtype=object)"
      ]
     },
     "execution_count": 4,
     "metadata": {},
     "output_type": "execute_result"
    }
   ],
   "source": [
    "df.brand.unique()"
   ]
  },
  {
   "cell_type": "code",
   "execution_count": 5,
   "metadata": {},
   "outputs": [
    {
     "data": {
      "text/plain": [
       "45"
      ]
     },
     "execution_count": 5,
     "metadata": {},
     "output_type": "execute_result"
    }
   ],
   "source": [
    "len(df.brand.unique())"
   ]
  },
  {
   "cell_type": "code",
   "execution_count": 6,
   "metadata": {},
   "outputs": [
    {
     "data": {
      "text/plain": [
       "array([202018, 202019, 202020, 202021], dtype=int64)"
      ]
     },
     "execution_count": 6,
     "metadata": {},
     "output_type": "execute_result"
    }
   ],
   "source": [
    "df['week'].unique()"
   ]
  },
  {
   "cell_type": "code",
   "execution_count": 7,
   "metadata": {},
   "outputs": [],
   "source": [
    "dfTemp = df\n",
    "dfTemp[\"product\"] = dfTemp[\"brand\"] + \" \" + dfTemp['size']"
   ]
  },
  {
   "cell_type": "code",
   "execution_count": 8,
   "metadata": {},
   "outputs": [
    {
     "data": {
      "text/html": [
       "<div>\n",
       "<style scoped>\n",
       "    .dataframe tbody tr th:only-of-type {\n",
       "        vertical-align: middle;\n",
       "    }\n",
       "\n",
       "    .dataframe tbody tr th {\n",
       "        vertical-align: top;\n",
       "    }\n",
       "\n",
       "    .dataframe thead th {\n",
       "        text-align: right;\n",
       "    }\n",
       "</style>\n",
       "<table border=\"1\" class=\"dataframe\">\n",
       "  <thead>\n",
       "    <tr style=\"text-align: right;\">\n",
       "      <th></th>\n",
       "      <th>CustomerId</th>\n",
       "      <th>brand</th>\n",
       "      <th>size</th>\n",
       "      <th>week</th>\n",
       "      <th>Sales</th>\n",
       "      <th>product</th>\n",
       "    </tr>\n",
       "  </thead>\n",
       "  <tbody>\n",
       "    <tr>\n",
       "      <th>0</th>\n",
       "      <td>500277171</td>\n",
       "      <td>CIEL EXPRIM</td>\n",
       "      <td>INDIVIDUAL</td>\n",
       "      <td>202018</td>\n",
       "      <td>1.056700</td>\n",
       "      <td>CIEL EXPRIM INDIVIDUAL</td>\n",
       "    </tr>\n",
       "    <tr>\n",
       "      <th>1</th>\n",
       "      <td>500254405</td>\n",
       "      <td>COCA-COLA</td>\n",
       "      <td>FAMILIAR</td>\n",
       "      <td>202018</td>\n",
       "      <td>60.584799</td>\n",
       "      <td>COCA-COLA FAMILIAR</td>\n",
       "    </tr>\n",
       "    <tr>\n",
       "      <th>2</th>\n",
       "      <td>500255970</td>\n",
       "      <td>JOYA</td>\n",
       "      <td>FAMILIAR</td>\n",
       "      <td>202018</td>\n",
       "      <td>35.223399</td>\n",
       "      <td>JOYA FAMILIAR</td>\n",
       "    </tr>\n",
       "    <tr>\n",
       "      <th>3</th>\n",
       "      <td>500256780</td>\n",
       "      <td>TOPO CHICO A.M.</td>\n",
       "      <td>FAMILIAR</td>\n",
       "      <td>202018</td>\n",
       "      <td>3.170200</td>\n",
       "      <td>TOPO CHICO A.M. FAMILIAR</td>\n",
       "    </tr>\n",
       "    <tr>\n",
       "      <th>4</th>\n",
       "      <td>500260292</td>\n",
       "      <td>COCA-COLA LIGHT</td>\n",
       "      <td>INDIVIDUAL</td>\n",
       "      <td>202018</td>\n",
       "      <td>6.340500</td>\n",
       "      <td>COCA-COLA LIGHT INDIVIDUAL</td>\n",
       "    </tr>\n",
       "  </tbody>\n",
       "</table>\n",
       "</div>"
      ],
      "text/plain": [
       "   CustomerId            brand        size    week      Sales  \\\n",
       "0   500277171      CIEL EXPRIM  INDIVIDUAL  202018   1.056700   \n",
       "1   500254405        COCA-COLA    FAMILIAR  202018  60.584799   \n",
       "2   500255970             JOYA    FAMILIAR  202018  35.223399   \n",
       "3   500256780  TOPO CHICO A.M.    FAMILIAR  202018   3.170200   \n",
       "4   500260292  COCA-COLA LIGHT  INDIVIDUAL  202018   6.340500   \n",
       "\n",
       "                      product  \n",
       "0      CIEL EXPRIM INDIVIDUAL  \n",
       "1          COCA-COLA FAMILIAR  \n",
       "2               JOYA FAMILIAR  \n",
       "3    TOPO CHICO A.M. FAMILIAR  \n",
       "4  COCA-COLA LIGHT INDIVIDUAL  "
      ]
     },
     "execution_count": 8,
     "metadata": {},
     "output_type": "execute_result"
    }
   ],
   "source": [
    "dfTemp.head()"
   ]
  },
  {
   "cell_type": "code",
   "execution_count": 9,
   "metadata": {},
   "outputs": [
    {
     "data": {
      "text/plain": [
       "(814111, 6)"
      ]
     },
     "execution_count": 9,
     "metadata": {},
     "output_type": "execute_result"
    }
   ],
   "source": [
    "dfTemp.shape"
   ]
  },
  {
   "cell_type": "code",
   "execution_count": 10,
   "metadata": {},
   "outputs": [
    {
     "name": "stdout",
     "output_type": "stream",
     "text": [
      "67\n"
     ]
    }
   ],
   "source": [
    "listaElementosIniciales = list(dfTemp['product'].unique())\n",
    "print(len(listaElementosIniciales))"
   ]
  },
  {
   "cell_type": "code",
   "execution_count": 11,
   "metadata": {},
   "outputs": [
    {
     "name": "stdout",
     "output_type": "stream",
     "text": [
      "19104\n"
     ]
    }
   ],
   "source": [
    "unique_Customers = dfTemp['CustomerId'].nunique()\n",
    "print(unique_Customers)"
   ]
  },
  {
   "cell_type": "code",
   "execution_count": 12,
   "metadata": {},
   "outputs": [
    {
     "data": {
      "text/plain": [
       "0.02346608754825816"
      ]
     },
     "execution_count": 12,
     "metadata": {},
     "output_type": "execute_result"
    }
   ],
   "source": [
    "unique_Customers/dfTemp.shape[0]"
   ]
  },
  {
   "cell_type": "markdown",
   "metadata": {},
   "source": [
    "Se dividen las ventas por semanas en diferentes data frames."
   ]
  },
  {
   "cell_type": "code",
   "execution_count": 13,
   "metadata": {},
   "outputs": [],
   "source": [
    "dfTemp = dfTemp.drop(columns=['brand', 'size'])\n",
    "dfWeek18 = dfTemp[dfTemp['week']==202018]\n",
    "dfWeek19 = dfTemp[dfTemp['week']==202019]\n",
    "dfWeek20 = dfTemp[dfTemp['week']==202020]\n",
    "dfWeek21 = dfTemp[dfTemp['week']==202021]"
   ]
  },
  {
   "cell_type": "code",
   "execution_count": 14,
   "metadata": {},
   "outputs": [
    {
     "data": {
      "text/html": [
       "<div>\n",
       "<style scoped>\n",
       "    .dataframe tbody tr th:only-of-type {\n",
       "        vertical-align: middle;\n",
       "    }\n",
       "\n",
       "    .dataframe tbody tr th {\n",
       "        vertical-align: top;\n",
       "    }\n",
       "\n",
       "    .dataframe thead th {\n",
       "        text-align: right;\n",
       "    }\n",
       "</style>\n",
       "<table border=\"1\" class=\"dataframe\">\n",
       "  <thead>\n",
       "    <tr style=\"text-align: right;\">\n",
       "      <th></th>\n",
       "      <th>CustomerId</th>\n",
       "      <th>Sales</th>\n",
       "      <th>product</th>\n",
       "    </tr>\n",
       "  </thead>\n",
       "  <tbody>\n",
       "    <tr>\n",
       "      <th>0</th>\n",
       "      <td>500277171</td>\n",
       "      <td>1.056700</td>\n",
       "      <td>CIEL EXPRIM INDIVIDUAL</td>\n",
       "    </tr>\n",
       "    <tr>\n",
       "      <th>1</th>\n",
       "      <td>500254405</td>\n",
       "      <td>60.584799</td>\n",
       "      <td>COCA-COLA FAMILIAR</td>\n",
       "    </tr>\n",
       "    <tr>\n",
       "      <th>2</th>\n",
       "      <td>500255970</td>\n",
       "      <td>35.223399</td>\n",
       "      <td>JOYA FAMILIAR</td>\n",
       "    </tr>\n",
       "    <tr>\n",
       "      <th>3</th>\n",
       "      <td>500256780</td>\n",
       "      <td>3.170200</td>\n",
       "      <td>TOPO CHICO A.M. FAMILIAR</td>\n",
       "    </tr>\n",
       "    <tr>\n",
       "      <th>4</th>\n",
       "      <td>500260292</td>\n",
       "      <td>6.340500</td>\n",
       "      <td>COCA-COLA LIGHT INDIVIDUAL</td>\n",
       "    </tr>\n",
       "  </tbody>\n",
       "</table>\n",
       "</div>"
      ],
      "text/plain": [
       "   CustomerId      Sales                     product\n",
       "0   500277171   1.056700      CIEL EXPRIM INDIVIDUAL\n",
       "1   500254405  60.584799          COCA-COLA FAMILIAR\n",
       "2   500255970  35.223399               JOYA FAMILIAR\n",
       "3   500256780   3.170200    TOPO CHICO A.M. FAMILIAR\n",
       "4   500260292   6.340500  COCA-COLA LIGHT INDIVIDUAL"
      ]
     },
     "execution_count": 14,
     "metadata": {},
     "output_type": "execute_result"
    }
   ],
   "source": [
    "dfWeek18 = dfWeek18.drop(columns=['week'])\n",
    "dfWeek18.head()"
   ]
  },
  {
   "cell_type": "code",
   "execution_count": 15,
   "metadata": {},
   "outputs": [
    {
     "data": {
      "text/plain": [
       "(238964, 3)"
      ]
     },
     "execution_count": 15,
     "metadata": {},
     "output_type": "execute_result"
    }
   ],
   "source": [
    "dfWeek18.shape"
   ]
  },
  {
   "cell_type": "code",
   "execution_count": 16,
   "metadata": {},
   "outputs": [
    {
     "data": {
      "text/plain": [
       "18069"
      ]
     },
     "execution_count": 16,
     "metadata": {},
     "output_type": "execute_result"
    }
   ],
   "source": [
    "dfWeek18['CustomerId'].nunique()"
   ]
  },
  {
   "cell_type": "code",
   "execution_count": 17,
   "metadata": {},
   "outputs": [
    {
     "data": {
      "text/html": [
       "<div>\n",
       "<style scoped>\n",
       "    .dataframe tbody tr th:only-of-type {\n",
       "        vertical-align: middle;\n",
       "    }\n",
       "\n",
       "    .dataframe tbody tr th {\n",
       "        vertical-align: top;\n",
       "    }\n",
       "\n",
       "    .dataframe thead th {\n",
       "        text-align: right;\n",
       "    }\n",
       "</style>\n",
       "<table border=\"1\" class=\"dataframe\">\n",
       "  <thead>\n",
       "    <tr style=\"text-align: right;\">\n",
       "      <th></th>\n",
       "      <th>CustomerId</th>\n",
       "      <th>Sales</th>\n",
       "      <th>product</th>\n",
       "    </tr>\n",
       "  </thead>\n",
       "  <tbody>\n",
       "    <tr>\n",
       "      <th>105010</th>\n",
       "      <td>500000101</td>\n",
       "      <td>2.536200</td>\n",
       "      <td>TOPO CHICO A.M. INDIVIDUAL</td>\n",
       "    </tr>\n",
       "    <tr>\n",
       "      <th>690932</th>\n",
       "      <td>500000101</td>\n",
       "      <td>4.226800</td>\n",
       "      <td>CIEL EXPRIM INDIVIDUAL</td>\n",
       "    </tr>\n",
       "    <tr>\n",
       "      <th>249313</th>\n",
       "      <td>500000101</td>\n",
       "      <td>52.835499</td>\n",
       "      <td>COCA-COLA FAMILIAR</td>\n",
       "    </tr>\n",
       "    <tr>\n",
       "      <th>525933</th>\n",
       "      <td>500000101</td>\n",
       "      <td>3.522400</td>\n",
       "      <td>CIEL AGUA PURIFICADA FAMILIAR</td>\n",
       "    </tr>\n",
       "    <tr>\n",
       "      <th>252891</th>\n",
       "      <td>500000101</td>\n",
       "      <td>4.797600</td>\n",
       "      <td>COCA-COLA SIN AZÚCAR INDIVIDUAL</td>\n",
       "    </tr>\n",
       "    <tr>\n",
       "      <th>...</th>\n",
       "      <td>...</td>\n",
       "      <td>...</td>\n",
       "      <td>...</td>\n",
       "    </tr>\n",
       "    <tr>\n",
       "      <th>699123</th>\n",
       "      <td>8700086000</td>\n",
       "      <td>1.500500</td>\n",
       "      <td>SPRITE INDIVIDUAL</td>\n",
       "    </tr>\n",
       "    <tr>\n",
       "      <th>209543</th>\n",
       "      <td>8700086000</td>\n",
       "      <td>1.500500</td>\n",
       "      <td>COCA-COLA LIGHT INDIVIDUAL</td>\n",
       "    </tr>\n",
       "    <tr>\n",
       "      <th>122238</th>\n",
       "      <td>8700086000</td>\n",
       "      <td>1.416000</td>\n",
       "      <td>DEL VALLE INDIVIDUAL</td>\n",
       "    </tr>\n",
       "    <tr>\n",
       "      <th>106432</th>\n",
       "      <td>8700086000</td>\n",
       "      <td>1.500500</td>\n",
       "      <td>SIDRAL MUNDET INDIVIDUAL</td>\n",
       "    </tr>\n",
       "    <tr>\n",
       "      <th>660692</th>\n",
       "      <td>8700086350</td>\n",
       "      <td>0.634050</td>\n",
       "      <td>COCA-COLA INDIVIDUAL</td>\n",
       "    </tr>\n",
       "  </tbody>\n",
       "</table>\n",
       "<p>238964 rows × 3 columns</p>\n",
       "</div>"
      ],
      "text/plain": [
       "        CustomerId      Sales                          product\n",
       "105010   500000101   2.536200       TOPO CHICO A.M. INDIVIDUAL\n",
       "690932   500000101   4.226800           CIEL EXPRIM INDIVIDUAL\n",
       "249313   500000101  52.835499               COCA-COLA FAMILIAR\n",
       "525933   500000101   3.522400    CIEL AGUA PURIFICADA FAMILIAR\n",
       "252891   500000101   4.797600  COCA-COLA SIN AZÚCAR INDIVIDUAL\n",
       "...            ...        ...                              ...\n",
       "699123  8700086000   1.500500                SPRITE INDIVIDUAL\n",
       "209543  8700086000   1.500500       COCA-COLA LIGHT INDIVIDUAL\n",
       "122238  8700086000   1.416000             DEL VALLE INDIVIDUAL\n",
       "106432  8700086000   1.500500         SIDRAL MUNDET INDIVIDUAL\n",
       "660692  8700086350   0.634050             COCA-COLA INDIVIDUAL\n",
       "\n",
       "[238964 rows x 3 columns]"
      ]
     },
     "execution_count": 17,
     "metadata": {},
     "output_type": "execute_result"
    }
   ],
   "source": [
    "dfWeek18.sort_values(by=['CustomerId'])"
   ]
  },
  {
   "cell_type": "code",
   "execution_count": 18,
   "metadata": {},
   "outputs": [],
   "source": [
    "dfTemp18 = dfWeek18.groupby(['CustomerId', 'product']).sum()"
   ]
  },
  {
   "cell_type": "code",
   "execution_count": 19,
   "metadata": {},
   "outputs": [
    {
     "data": {
      "text/plain": [
       "(238964, 1)"
      ]
     },
     "execution_count": 19,
     "metadata": {},
     "output_type": "execute_result"
    }
   ],
   "source": [
    "dfTemp18.shape"
   ]
  },
  {
   "cell_type": "code",
   "execution_count": 20,
   "metadata": {},
   "outputs": [],
   "source": [
    "dfWeek19 = dfWeek19.drop(columns=['week'])"
   ]
  },
  {
   "cell_type": "code",
   "execution_count": 21,
   "metadata": {},
   "outputs": [
    {
     "name": "stdout",
     "output_type": "stream",
     "text": [
      "(263645, 1)\n"
     ]
    }
   ],
   "source": [
    "dfTemp19 = dfWeek19.groupby(['CustomerId', 'product']).sum()\n",
    "print(dfTemp19.shape)"
   ]
  },
  {
   "cell_type": "code",
   "execution_count": 22,
   "metadata": {},
   "outputs": [],
   "source": [
    "dfWeek20 = dfWeek20.drop(columns=['week'])\n",
    "dfTemp20 = dfWeek20.groupby(['CustomerId', 'product']).sum()"
   ]
  },
  {
   "cell_type": "code",
   "execution_count": 23,
   "metadata": {},
   "outputs": [
    {
     "data": {
      "text/html": [
       "<div>\n",
       "<style scoped>\n",
       "    .dataframe tbody tr th:only-of-type {\n",
       "        vertical-align: middle;\n",
       "    }\n",
       "\n",
       "    .dataframe tbody tr th {\n",
       "        vertical-align: top;\n",
       "    }\n",
       "\n",
       "    .dataframe thead th {\n",
       "        text-align: right;\n",
       "    }\n",
       "</style>\n",
       "<table border=\"1\" class=\"dataframe\">\n",
       "  <thead>\n",
       "    <tr style=\"text-align: right;\">\n",
       "      <th></th>\n",
       "      <th></th>\n",
       "      <th>Sales</th>\n",
       "    </tr>\n",
       "    <tr>\n",
       "      <th>CustomerId</th>\n",
       "      <th>product</th>\n",
       "      <th></th>\n",
       "    </tr>\n",
       "  </thead>\n",
       "  <tbody>\n",
       "    <tr>\n",
       "      <th rowspan=\"5\" valign=\"top\">500000101</th>\n",
       "      <th>CIEL AGUA PURIFICADA FAMILIAR</th>\n",
       "      <td>3.522400</td>\n",
       "    </tr>\n",
       "    <tr>\n",
       "      <th>CIEL AGUA PURIFICADA INDIVIDUAL</th>\n",
       "      <td>6.340200</td>\n",
       "    </tr>\n",
       "    <tr>\n",
       "      <th>COCA-COLA FAMILIAR</th>\n",
       "      <td>58.823599</td>\n",
       "    </tr>\n",
       "    <tr>\n",
       "      <th>COCA-COLA INDIVIDUAL</th>\n",
       "      <td>33.848400</td>\n",
       "    </tr>\n",
       "    <tr>\n",
       "      <th>COCA-COLA LIGHT FAMILIAR</th>\n",
       "      <td>14.089500</td>\n",
       "    </tr>\n",
       "  </tbody>\n",
       "</table>\n",
       "</div>"
      ],
      "text/plain": [
       "                                                Sales\n",
       "CustomerId product                                   \n",
       "500000101  CIEL AGUA PURIFICADA FAMILIAR     3.522400\n",
       "           CIEL AGUA PURIFICADA INDIVIDUAL   6.340200\n",
       "           COCA-COLA FAMILIAR               58.823599\n",
       "           COCA-COLA INDIVIDUAL             33.848400\n",
       "           COCA-COLA LIGHT FAMILIAR         14.089500"
      ]
     },
     "execution_count": 23,
     "metadata": {},
     "output_type": "execute_result"
    }
   ],
   "source": [
    "dfTemp20.head()"
   ]
  },
  {
   "cell_type": "code",
   "execution_count": 24,
   "metadata": {},
   "outputs": [],
   "source": [
    "dfWeek21 = dfWeek21.drop(columns=['week'])\n",
    "dfTemp21 = dfWeek21.groupby(['CustomerId', 'product']).sum()"
   ]
  },
  {
   "cell_type": "code",
   "execution_count": 25,
   "metadata": {},
   "outputs": [
    {
     "data": {
      "text/html": [
       "<div>\n",
       "<style scoped>\n",
       "    .dataframe tbody tr th:only-of-type {\n",
       "        vertical-align: middle;\n",
       "    }\n",
       "\n",
       "    .dataframe tbody tr th {\n",
       "        vertical-align: top;\n",
       "    }\n",
       "\n",
       "    .dataframe thead th {\n",
       "        text-align: right;\n",
       "    }\n",
       "</style>\n",
       "<table border=\"1\" class=\"dataframe\">\n",
       "  <thead>\n",
       "    <tr style=\"text-align: right;\">\n",
       "      <th></th>\n",
       "      <th></th>\n",
       "      <th>Sales</th>\n",
       "    </tr>\n",
       "    <tr>\n",
       "      <th>CustomerId</th>\n",
       "      <th>product</th>\n",
       "      <th></th>\n",
       "    </tr>\n",
       "  </thead>\n",
       "  <tbody>\n",
       "    <tr>\n",
       "      <th rowspan=\"5\" valign=\"top\">500000171</th>\n",
       "      <th>COCA-COLA FAMILIAR</th>\n",
       "      <td>3.1701</td>\n",
       "    </tr>\n",
       "    <tr>\n",
       "      <th>COCA-COLA INDIVIDUAL</th>\n",
       "      <td>19.7815</td>\n",
       "    </tr>\n",
       "    <tr>\n",
       "      <th>COCA-COLA LIGHT INDIVIDUAL</th>\n",
       "      <td>5.0722</td>\n",
       "    </tr>\n",
       "    <tr>\n",
       "      <th>COCA-COLA SIN AZÚCAR INDIVIDUAL</th>\n",
       "      <td>2.5362</td>\n",
       "    </tr>\n",
       "    <tr>\n",
       "      <th>DEL VALLE Y NADA INDIVIDUAL</th>\n",
       "      <td>3.8043</td>\n",
       "    </tr>\n",
       "  </tbody>\n",
       "</table>\n",
       "</div>"
      ],
      "text/plain": [
       "                                              Sales\n",
       "CustomerId product                                 \n",
       "500000171  COCA-COLA FAMILIAR                3.1701\n",
       "           COCA-COLA INDIVIDUAL             19.7815\n",
       "           COCA-COLA LIGHT INDIVIDUAL        5.0722\n",
       "           COCA-COLA SIN AZÚCAR INDIVIDUAL   2.5362\n",
       "           DEL VALLE Y NADA INDIVIDUAL       3.8043"
      ]
     },
     "execution_count": 25,
     "metadata": {},
     "output_type": "execute_result"
    }
   ],
   "source": [
    "dfTemp21.head()"
   ]
  },
  {
   "cell_type": "code",
   "execution_count": 26,
   "metadata": {},
   "outputs": [],
   "source": [
    "deltas = dfTemp18 - dfTemp19\n",
    "deltas = deltas - dfTemp20\n",
    "deltas = deltas - dfTemp21"
   ]
  },
  {
   "cell_type": "code",
   "execution_count": 27,
   "metadata": {},
   "outputs": [
    {
     "name": "stdout",
     "output_type": "stream",
     "text": [
      "Sales    314558\n",
      "dtype: int64\n"
     ]
    }
   ],
   "source": [
    "maskDelta = deltas.isna()\n",
    "print(maskDelta.sum())"
   ]
  },
  {
   "cell_type": "markdown",
   "metadata": {},
   "source": [
    "No deberían de haber valores NaN, debería de ser un número.\n",
    "Los valores NaN, se presentan cuando en una de las dos semanas no se reportaron ventas de un producto\n",
    " en específico, pero en la otra semana sí se resportaron."
   ]
  },
  {
   "cell_type": "code",
   "execution_count": 28,
   "metadata": {},
   "outputs": [
    {
     "data": {
      "text/plain": [
       "(355371, 1)"
      ]
     },
     "execution_count": 28,
     "metadata": {},
     "output_type": "execute_result"
    }
   ],
   "source": [
    "deltas.shape"
   ]
  },
  {
   "cell_type": "code",
   "execution_count": 29,
   "metadata": {},
   "outputs": [
    {
     "data": {
      "text/html": [
       "<div>\n",
       "<style scoped>\n",
       "    .dataframe tbody tr th:only-of-type {\n",
       "        vertical-align: middle;\n",
       "    }\n",
       "\n",
       "    .dataframe tbody tr th {\n",
       "        vertical-align: top;\n",
       "    }\n",
       "\n",
       "    .dataframe thead th {\n",
       "        text-align: right;\n",
       "    }\n",
       "</style>\n",
       "<table border=\"1\" class=\"dataframe\">\n",
       "  <thead>\n",
       "    <tr style=\"text-align: right;\">\n",
       "      <th></th>\n",
       "      <th></th>\n",
       "      <th>Sales</th>\n",
       "    </tr>\n",
       "    <tr>\n",
       "      <th>CustomerId</th>\n",
       "      <th>product</th>\n",
       "      <th></th>\n",
       "    </tr>\n",
       "  </thead>\n",
       "  <tbody>\n",
       "    <tr>\n",
       "      <th rowspan=\"5\" valign=\"top\">500000101</th>\n",
       "      <th>CIEL AGUA PURIFICADA FAMILIAR</th>\n",
       "      <td>NaN</td>\n",
       "    </tr>\n",
       "    <tr>\n",
       "      <th>CIEL AGUA PURIFICADA INDIVIDUAL</th>\n",
       "      <td>NaN</td>\n",
       "    </tr>\n",
       "    <tr>\n",
       "      <th>CIEL EXPRIM INDIVIDUAL</th>\n",
       "      <td>NaN</td>\n",
       "    </tr>\n",
       "    <tr>\n",
       "      <th>COCA-COLA CAFÉ INDIVIDUAL</th>\n",
       "      <td>NaN</td>\n",
       "    </tr>\n",
       "    <tr>\n",
       "      <th>COCA-COLA ENERGY INDIVIDUAL</th>\n",
       "      <td>NaN</td>\n",
       "    </tr>\n",
       "  </tbody>\n",
       "</table>\n",
       "</div>"
      ],
      "text/plain": [
       "                                            Sales\n",
       "CustomerId product                               \n",
       "500000101  CIEL AGUA PURIFICADA FAMILIAR      NaN\n",
       "           CIEL AGUA PURIFICADA INDIVIDUAL    NaN\n",
       "           CIEL EXPRIM INDIVIDUAL             NaN\n",
       "           COCA-COLA CAFÉ INDIVIDUAL          NaN\n",
       "           COCA-COLA ENERGY INDIVIDUAL        NaN"
      ]
     },
     "execution_count": 29,
     "metadata": {},
     "output_type": "execute_result"
    }
   ],
   "source": [
    "deltas.head()"
   ]
  },
  {
   "cell_type": "code",
   "execution_count": 30,
   "metadata": {},
   "outputs": [],
   "source": [
    "deltas['Sales18'] = dfTemp18['Sales']\n",
    "deltas['Sales19'] = dfTemp19['Sales']\n",
    "deltas['Sales20'] = dfTemp20['Sales']\n",
    "deltas['Sales21'] = dfTemp21['Sales']"
   ]
  },
  {
   "cell_type": "code",
   "execution_count": 31,
   "metadata": {},
   "outputs": [
    {
     "data": {
      "text/html": [
       "<div>\n",
       "<style scoped>\n",
       "    .dataframe tbody tr th:only-of-type {\n",
       "        vertical-align: middle;\n",
       "    }\n",
       "\n",
       "    .dataframe tbody tr th {\n",
       "        vertical-align: top;\n",
       "    }\n",
       "\n",
       "    .dataframe thead th {\n",
       "        text-align: right;\n",
       "    }\n",
       "</style>\n",
       "<table border=\"1\" class=\"dataframe\">\n",
       "  <thead>\n",
       "    <tr style=\"text-align: right;\">\n",
       "      <th></th>\n",
       "      <th></th>\n",
       "      <th>Sales</th>\n",
       "      <th>Sales18</th>\n",
       "      <th>Sales19</th>\n",
       "      <th>Sales20</th>\n",
       "      <th>Sales21</th>\n",
       "    </tr>\n",
       "    <tr>\n",
       "      <th>CustomerId</th>\n",
       "      <th>product</th>\n",
       "      <th></th>\n",
       "      <th></th>\n",
       "      <th></th>\n",
       "      <th></th>\n",
       "      <th></th>\n",
       "    </tr>\n",
       "  </thead>\n",
       "  <tbody>\n",
       "    <tr>\n",
       "      <th rowspan=\"5\" valign=\"top\">500000101</th>\n",
       "      <th>CIEL AGUA PURIFICADA FAMILIAR</th>\n",
       "      <td>NaN</td>\n",
       "      <td>3.5224</td>\n",
       "      <td>7.0448</td>\n",
       "      <td>3.5224</td>\n",
       "      <td>NaN</td>\n",
       "    </tr>\n",
       "    <tr>\n",
       "      <th>CIEL AGUA PURIFICADA INDIVIDUAL</th>\n",
       "      <td>NaN</td>\n",
       "      <td>28.5309</td>\n",
       "      <td>17.3299</td>\n",
       "      <td>6.3402</td>\n",
       "      <td>NaN</td>\n",
       "    </tr>\n",
       "    <tr>\n",
       "      <th>CIEL EXPRIM INDIVIDUAL</th>\n",
       "      <td>NaN</td>\n",
       "      <td>4.2268</td>\n",
       "      <td>2.1134</td>\n",
       "      <td>NaN</td>\n",
       "      <td>NaN</td>\n",
       "    </tr>\n",
       "    <tr>\n",
       "      <th>COCA-COLA CAFÉ INDIVIDUAL</th>\n",
       "      <td>NaN</td>\n",
       "      <td>NaN</td>\n",
       "      <td>0.2483</td>\n",
       "      <td>NaN</td>\n",
       "      <td>NaN</td>\n",
       "    </tr>\n",
       "    <tr>\n",
       "      <th>COCA-COLA ENERGY INDIVIDUAL</th>\n",
       "      <td>NaN</td>\n",
       "      <td>0.2483</td>\n",
       "      <td>NaN</td>\n",
       "      <td>NaN</td>\n",
       "      <td>NaN</td>\n",
       "    </tr>\n",
       "  </tbody>\n",
       "</table>\n",
       "</div>"
      ],
      "text/plain": [
       "                                            Sales  Sales18  Sales19  Sales20  \\\n",
       "CustomerId product                                                             \n",
       "500000101  CIEL AGUA PURIFICADA FAMILIAR      NaN   3.5224   7.0448   3.5224   \n",
       "           CIEL AGUA PURIFICADA INDIVIDUAL    NaN  28.5309  17.3299   6.3402   \n",
       "           CIEL EXPRIM INDIVIDUAL             NaN   4.2268   2.1134      NaN   \n",
       "           COCA-COLA CAFÉ INDIVIDUAL          NaN      NaN   0.2483      NaN   \n",
       "           COCA-COLA ENERGY INDIVIDUAL        NaN   0.2483      NaN      NaN   \n",
       "\n",
       "                                            Sales21  \n",
       "CustomerId product                                   \n",
       "500000101  CIEL AGUA PURIFICADA FAMILIAR        NaN  \n",
       "           CIEL AGUA PURIFICADA INDIVIDUAL      NaN  \n",
       "           CIEL EXPRIM INDIVIDUAL               NaN  \n",
       "           COCA-COLA CAFÉ INDIVIDUAL            NaN  \n",
       "           COCA-COLA ENERGY INDIVIDUAL          NaN  "
      ]
     },
     "execution_count": 31,
     "metadata": {},
     "output_type": "execute_result"
    }
   ],
   "source": [
    "deltas.head()"
   ]
  },
  {
   "cell_type": "code",
   "execution_count": 32,
   "metadata": {},
   "outputs": [],
   "source": [
    "deltas = deltas.drop(columns=['Sales'])"
   ]
  },
  {
   "cell_type": "code",
   "execution_count": 33,
   "metadata": {},
   "outputs": [
    {
     "data": {
      "text/html": [
       "<div>\n",
       "<style scoped>\n",
       "    .dataframe tbody tr th:only-of-type {\n",
       "        vertical-align: middle;\n",
       "    }\n",
       "\n",
       "    .dataframe tbody tr th {\n",
       "        vertical-align: top;\n",
       "    }\n",
       "\n",
       "    .dataframe thead th {\n",
       "        text-align: right;\n",
       "    }\n",
       "</style>\n",
       "<table border=\"1\" class=\"dataframe\">\n",
       "  <thead>\n",
       "    <tr style=\"text-align: right;\">\n",
       "      <th></th>\n",
       "      <th></th>\n",
       "      <th>Sales18</th>\n",
       "      <th>Sales19</th>\n",
       "      <th>Sales20</th>\n",
       "      <th>Sales21</th>\n",
       "    </tr>\n",
       "    <tr>\n",
       "      <th>CustomerId</th>\n",
       "      <th>product</th>\n",
       "      <th></th>\n",
       "      <th></th>\n",
       "      <th></th>\n",
       "      <th></th>\n",
       "    </tr>\n",
       "  </thead>\n",
       "  <tbody>\n",
       "    <tr>\n",
       "      <th rowspan=\"5\" valign=\"top\">500000101</th>\n",
       "      <th>CIEL AGUA PURIFICADA FAMILIAR</th>\n",
       "      <td>3.5224</td>\n",
       "      <td>7.0448</td>\n",
       "      <td>3.5224</td>\n",
       "      <td>NaN</td>\n",
       "    </tr>\n",
       "    <tr>\n",
       "      <th>CIEL AGUA PURIFICADA INDIVIDUAL</th>\n",
       "      <td>28.5309</td>\n",
       "      <td>17.3299</td>\n",
       "      <td>6.3402</td>\n",
       "      <td>NaN</td>\n",
       "    </tr>\n",
       "    <tr>\n",
       "      <th>CIEL EXPRIM INDIVIDUAL</th>\n",
       "      <td>4.2268</td>\n",
       "      <td>2.1134</td>\n",
       "      <td>NaN</td>\n",
       "      <td>NaN</td>\n",
       "    </tr>\n",
       "    <tr>\n",
       "      <th>COCA-COLA CAFÉ INDIVIDUAL</th>\n",
       "      <td>NaN</td>\n",
       "      <td>0.2483</td>\n",
       "      <td>NaN</td>\n",
       "      <td>NaN</td>\n",
       "    </tr>\n",
       "    <tr>\n",
       "      <th>COCA-COLA ENERGY INDIVIDUAL</th>\n",
       "      <td>0.2483</td>\n",
       "      <td>NaN</td>\n",
       "      <td>NaN</td>\n",
       "      <td>NaN</td>\n",
       "    </tr>\n",
       "  </tbody>\n",
       "</table>\n",
       "</div>"
      ],
      "text/plain": [
       "                                            Sales18  Sales19  Sales20  Sales21\n",
       "CustomerId product                                                            \n",
       "500000101  CIEL AGUA PURIFICADA FAMILIAR     3.5224   7.0448   3.5224      NaN\n",
       "           CIEL AGUA PURIFICADA INDIVIDUAL  28.5309  17.3299   6.3402      NaN\n",
       "           CIEL EXPRIM INDIVIDUAL            4.2268   2.1134      NaN      NaN\n",
       "           COCA-COLA CAFÉ INDIVIDUAL            NaN   0.2483      NaN      NaN\n",
       "           COCA-COLA ENERGY INDIVIDUAL       0.2483      NaN      NaN      NaN"
      ]
     },
     "execution_count": 33,
     "metadata": {},
     "output_type": "execute_result"
    }
   ],
   "source": [
    "deltas.head()"
   ]
  },
  {
   "cell_type": "code",
   "execution_count": 34,
   "metadata": {},
   "outputs": [],
   "source": [
    "deltas = deltas.fillna(0.0)"
   ]
  },
  {
   "cell_type": "code",
   "execution_count": 35,
   "metadata": {},
   "outputs": [
    {
     "data": {
      "text/html": [
       "<div>\n",
       "<style scoped>\n",
       "    .dataframe tbody tr th:only-of-type {\n",
       "        vertical-align: middle;\n",
       "    }\n",
       "\n",
       "    .dataframe tbody tr th {\n",
       "        vertical-align: top;\n",
       "    }\n",
       "\n",
       "    .dataframe thead th {\n",
       "        text-align: right;\n",
       "    }\n",
       "</style>\n",
       "<table border=\"1\" class=\"dataframe\">\n",
       "  <thead>\n",
       "    <tr style=\"text-align: right;\">\n",
       "      <th></th>\n",
       "      <th></th>\n",
       "      <th>Sales18</th>\n",
       "      <th>Sales19</th>\n",
       "      <th>Sales20</th>\n",
       "      <th>Sales21</th>\n",
       "    </tr>\n",
       "    <tr>\n",
       "      <th>CustomerId</th>\n",
       "      <th>product</th>\n",
       "      <th></th>\n",
       "      <th></th>\n",
       "      <th></th>\n",
       "      <th></th>\n",
       "    </tr>\n",
       "  </thead>\n",
       "  <tbody>\n",
       "    <tr>\n",
       "      <th rowspan=\"5\" valign=\"top\">500000101</th>\n",
       "      <th>CIEL AGUA PURIFICADA FAMILIAR</th>\n",
       "      <td>3.5224</td>\n",
       "      <td>7.0448</td>\n",
       "      <td>3.5224</td>\n",
       "      <td>0.0</td>\n",
       "    </tr>\n",
       "    <tr>\n",
       "      <th>CIEL AGUA PURIFICADA INDIVIDUAL</th>\n",
       "      <td>28.5309</td>\n",
       "      <td>17.3299</td>\n",
       "      <td>6.3402</td>\n",
       "      <td>0.0</td>\n",
       "    </tr>\n",
       "    <tr>\n",
       "      <th>CIEL EXPRIM INDIVIDUAL</th>\n",
       "      <td>4.2268</td>\n",
       "      <td>2.1134</td>\n",
       "      <td>0.0000</td>\n",
       "      <td>0.0</td>\n",
       "    </tr>\n",
       "    <tr>\n",
       "      <th>COCA-COLA CAFÉ INDIVIDUAL</th>\n",
       "      <td>0.0000</td>\n",
       "      <td>0.2483</td>\n",
       "      <td>0.0000</td>\n",
       "      <td>0.0</td>\n",
       "    </tr>\n",
       "    <tr>\n",
       "      <th>COCA-COLA ENERGY INDIVIDUAL</th>\n",
       "      <td>0.2483</td>\n",
       "      <td>0.0000</td>\n",
       "      <td>0.0000</td>\n",
       "      <td>0.0</td>\n",
       "    </tr>\n",
       "  </tbody>\n",
       "</table>\n",
       "</div>"
      ],
      "text/plain": [
       "                                            Sales18  Sales19  Sales20  Sales21\n",
       "CustomerId product                                                            \n",
       "500000101  CIEL AGUA PURIFICADA FAMILIAR     3.5224   7.0448   3.5224      0.0\n",
       "           CIEL AGUA PURIFICADA INDIVIDUAL  28.5309  17.3299   6.3402      0.0\n",
       "           CIEL EXPRIM INDIVIDUAL            4.2268   2.1134   0.0000      0.0\n",
       "           COCA-COLA CAFÉ INDIVIDUAL         0.0000   0.2483   0.0000      0.0\n",
       "           COCA-COLA ENERGY INDIVIDUAL       0.2483   0.0000   0.0000      0.0"
      ]
     },
     "execution_count": 35,
     "metadata": {},
     "output_type": "execute_result"
    }
   ],
   "source": [
    "deltas.head()"
   ]
  },
  {
   "cell_type": "code",
   "execution_count": 36,
   "metadata": {},
   "outputs": [],
   "source": [
    "deltas['delta_1'] = deltas['Sales18'] - deltas['Sales19']\n",
    "deltas['delta_2'] = deltas['Sales19'] - deltas['Sales20']\n",
    "deltas['delta_3'] = deltas['Sales20'] - deltas['Sales21']"
   ]
  },
  {
   "cell_type": "code",
   "execution_count": 37,
   "metadata": {
    "scrolled": true
   },
   "outputs": [
    {
     "data": {
      "text/html": [
       "<div>\n",
       "<style scoped>\n",
       "    .dataframe tbody tr th:only-of-type {\n",
       "        vertical-align: middle;\n",
       "    }\n",
       "\n",
       "    .dataframe tbody tr th {\n",
       "        vertical-align: top;\n",
       "    }\n",
       "\n",
       "    .dataframe thead th {\n",
       "        text-align: right;\n",
       "    }\n",
       "</style>\n",
       "<table border=\"1\" class=\"dataframe\">\n",
       "  <thead>\n",
       "    <tr style=\"text-align: right;\">\n",
       "      <th></th>\n",
       "      <th></th>\n",
       "      <th>Sales18</th>\n",
       "      <th>Sales19</th>\n",
       "      <th>Sales20</th>\n",
       "      <th>Sales21</th>\n",
       "      <th>delta_1</th>\n",
       "      <th>delta_2</th>\n",
       "      <th>delta_3</th>\n",
       "    </tr>\n",
       "    <tr>\n",
       "      <th>CustomerId</th>\n",
       "      <th>product</th>\n",
       "      <th></th>\n",
       "      <th></th>\n",
       "      <th></th>\n",
       "      <th></th>\n",
       "      <th></th>\n",
       "      <th></th>\n",
       "      <th></th>\n",
       "    </tr>\n",
       "  </thead>\n",
       "  <tbody>\n",
       "    <tr>\n",
       "      <th rowspan=\"5\" valign=\"top\">500000101</th>\n",
       "      <th>CIEL AGUA PURIFICADA FAMILIAR</th>\n",
       "      <td>3.5224</td>\n",
       "      <td>7.0448</td>\n",
       "      <td>3.5224</td>\n",
       "      <td>0.0</td>\n",
       "      <td>-3.5224</td>\n",
       "      <td>3.5224</td>\n",
       "      <td>3.5224</td>\n",
       "    </tr>\n",
       "    <tr>\n",
       "      <th>CIEL AGUA PURIFICADA INDIVIDUAL</th>\n",
       "      <td>28.5309</td>\n",
       "      <td>17.3299</td>\n",
       "      <td>6.3402</td>\n",
       "      <td>0.0</td>\n",
       "      <td>11.2010</td>\n",
       "      <td>10.9897</td>\n",
       "      <td>6.3402</td>\n",
       "    </tr>\n",
       "    <tr>\n",
       "      <th>CIEL EXPRIM INDIVIDUAL</th>\n",
       "      <td>4.2268</td>\n",
       "      <td>2.1134</td>\n",
       "      <td>0.0000</td>\n",
       "      <td>0.0</td>\n",
       "      <td>2.1134</td>\n",
       "      <td>2.1134</td>\n",
       "      <td>0.0000</td>\n",
       "    </tr>\n",
       "    <tr>\n",
       "      <th>COCA-COLA CAFÉ INDIVIDUAL</th>\n",
       "      <td>0.0000</td>\n",
       "      <td>0.2483</td>\n",
       "      <td>0.0000</td>\n",
       "      <td>0.0</td>\n",
       "      <td>-0.2483</td>\n",
       "      <td>0.2483</td>\n",
       "      <td>0.0000</td>\n",
       "    </tr>\n",
       "    <tr>\n",
       "      <th>COCA-COLA ENERGY INDIVIDUAL</th>\n",
       "      <td>0.2483</td>\n",
       "      <td>0.0000</td>\n",
       "      <td>0.0000</td>\n",
       "      <td>0.0</td>\n",
       "      <td>0.2483</td>\n",
       "      <td>0.0000</td>\n",
       "      <td>0.0000</td>\n",
       "    </tr>\n",
       "  </tbody>\n",
       "</table>\n",
       "</div>"
      ],
      "text/plain": [
       "                                            Sales18  Sales19  Sales20  \\\n",
       "CustomerId product                                                      \n",
       "500000101  CIEL AGUA PURIFICADA FAMILIAR     3.5224   7.0448   3.5224   \n",
       "           CIEL AGUA PURIFICADA INDIVIDUAL  28.5309  17.3299   6.3402   \n",
       "           CIEL EXPRIM INDIVIDUAL            4.2268   2.1134   0.0000   \n",
       "           COCA-COLA CAFÉ INDIVIDUAL         0.0000   0.2483   0.0000   \n",
       "           COCA-COLA ENERGY INDIVIDUAL       0.2483   0.0000   0.0000   \n",
       "\n",
       "                                            Sales21  delta_1  delta_2  delta_3  \n",
       "CustomerId product                                                              \n",
       "500000101  CIEL AGUA PURIFICADA FAMILIAR        0.0  -3.5224   3.5224   3.5224  \n",
       "           CIEL AGUA PURIFICADA INDIVIDUAL      0.0  11.2010  10.9897   6.3402  \n",
       "           CIEL EXPRIM INDIVIDUAL               0.0   2.1134   2.1134   0.0000  \n",
       "           COCA-COLA CAFÉ INDIVIDUAL            0.0  -0.2483   0.2483   0.0000  \n",
       "           COCA-COLA ENERGY INDIVIDUAL          0.0   0.2483   0.0000   0.0000  "
      ]
     },
     "execution_count": 37,
     "metadata": {},
     "output_type": "execute_result"
    }
   ],
   "source": [
    "deltas.head()"
   ]
  },
  {
   "cell_type": "code",
   "execution_count": 38,
   "metadata": {},
   "outputs": [
    {
     "data": {
      "text/plain": [
       "(355371, 7)"
      ]
     },
     "execution_count": 38,
     "metadata": {},
     "output_type": "execute_result"
    }
   ],
   "source": [
    "deltas.shape"
   ]
  },
  {
   "cell_type": "code",
   "execution_count": 39,
   "metadata": {},
   "outputs": [
    {
     "data": {
      "text/html": [
       "<div>\n",
       "<style scoped>\n",
       "    .dataframe tbody tr th:only-of-type {\n",
       "        vertical-align: middle;\n",
       "    }\n",
       "\n",
       "    .dataframe tbody tr th {\n",
       "        vertical-align: top;\n",
       "    }\n",
       "\n",
       "    .dataframe thead th {\n",
       "        text-align: right;\n",
       "    }\n",
       "</style>\n",
       "<table border=\"1\" class=\"dataframe\">\n",
       "  <thead>\n",
       "    <tr style=\"text-align: right;\">\n",
       "      <th></th>\n",
       "      <th>Sales18</th>\n",
       "      <th>Sales19</th>\n",
       "      <th>Sales20</th>\n",
       "      <th>Sales21</th>\n",
       "      <th>delta_1</th>\n",
       "      <th>delta_2</th>\n",
       "      <th>delta_3</th>\n",
       "    </tr>\n",
       "    <tr>\n",
       "      <th>product</th>\n",
       "      <th></th>\n",
       "      <th></th>\n",
       "      <th></th>\n",
       "      <th></th>\n",
       "      <th></th>\n",
       "      <th></th>\n",
       "      <th></th>\n",
       "    </tr>\n",
       "  </thead>\n",
       "  <tbody>\n",
       "    <tr>\n",
       "      <th>CIEL AGUA PURIFICADA FAMILIAR</th>\n",
       "      <td>3.522400</td>\n",
       "      <td>7.0448</td>\n",
       "      <td>3.522400</td>\n",
       "      <td>0.0</td>\n",
       "      <td>-3.522400</td>\n",
       "      <td>3.522400</td>\n",
       "      <td>3.522400</td>\n",
       "    </tr>\n",
       "    <tr>\n",
       "      <th>CIEL AGUA PURIFICADA INDIVIDUAL</th>\n",
       "      <td>28.530900</td>\n",
       "      <td>17.3299</td>\n",
       "      <td>6.340200</td>\n",
       "      <td>0.0</td>\n",
       "      <td>11.201000</td>\n",
       "      <td>10.989700</td>\n",
       "      <td>6.340200</td>\n",
       "    </tr>\n",
       "    <tr>\n",
       "      <th>CIEL EXPRIM INDIVIDUAL</th>\n",
       "      <td>4.226800</td>\n",
       "      <td>2.1134</td>\n",
       "      <td>0.000000</td>\n",
       "      <td>0.0</td>\n",
       "      <td>2.113400</td>\n",
       "      <td>2.113400</td>\n",
       "      <td>0.000000</td>\n",
       "    </tr>\n",
       "    <tr>\n",
       "      <th>COCA-COLA CAFÉ INDIVIDUAL</th>\n",
       "      <td>0.000000</td>\n",
       "      <td>0.2483</td>\n",
       "      <td>0.000000</td>\n",
       "      <td>0.0</td>\n",
       "      <td>-0.248300</td>\n",
       "      <td>0.248300</td>\n",
       "      <td>0.000000</td>\n",
       "    </tr>\n",
       "    <tr>\n",
       "      <th>COCA-COLA ENERGY INDIVIDUAL</th>\n",
       "      <td>0.248300</td>\n",
       "      <td>0.0000</td>\n",
       "      <td>0.000000</td>\n",
       "      <td>0.0</td>\n",
       "      <td>0.248300</td>\n",
       "      <td>0.000000</td>\n",
       "      <td>0.000000</td>\n",
       "    </tr>\n",
       "    <tr>\n",
       "      <th>COCA-COLA FAMILIAR</th>\n",
       "      <td>52.835499</td>\n",
       "      <td>24.3042</td>\n",
       "      <td>58.823599</td>\n",
       "      <td>0.0</td>\n",
       "      <td>28.531299</td>\n",
       "      <td>-34.519399</td>\n",
       "      <td>58.823599</td>\n",
       "    </tr>\n",
       "    <tr>\n",
       "      <th>COCA-COLA INDIVIDUAL</th>\n",
       "      <td>35.695500</td>\n",
       "      <td>29.0086</td>\n",
       "      <td>33.848400</td>\n",
       "      <td>0.0</td>\n",
       "      <td>6.686900</td>\n",
       "      <td>-4.839800</td>\n",
       "      <td>33.848400</td>\n",
       "    </tr>\n",
       "    <tr>\n",
       "      <th>COCA-COLA LIGHT FAMILIAR</th>\n",
       "      <td>14.793900</td>\n",
       "      <td>14.0895</td>\n",
       "      <td>14.089500</td>\n",
       "      <td>0.0</td>\n",
       "      <td>0.704400</td>\n",
       "      <td>0.000000</td>\n",
       "      <td>14.089500</td>\n",
       "    </tr>\n",
       "    <tr>\n",
       "      <th>COCA-COLA LIGHT INDIVIDUAL</th>\n",
       "      <td>2.536100</td>\n",
       "      <td>5.0299</td>\n",
       "      <td>5.072200</td>\n",
       "      <td>0.0</td>\n",
       "      <td>-2.493800</td>\n",
       "      <td>-0.042300</td>\n",
       "      <td>5.072200</td>\n",
       "    </tr>\n",
       "    <tr>\n",
       "      <th>COCA-COLA SIN AZÚCAR FAMILIAR</th>\n",
       "      <td>7.044800</td>\n",
       "      <td>0.0000</td>\n",
       "      <td>7.044800</td>\n",
       "      <td>0.0</td>\n",
       "      <td>7.044800</td>\n",
       "      <td>-7.044800</td>\n",
       "      <td>7.044800</td>\n",
       "    </tr>\n",
       "    <tr>\n",
       "      <th>COCA-COLA SIN AZÚCAR INDIVIDUAL</th>\n",
       "      <td>4.797600</td>\n",
       "      <td>9.2078</td>\n",
       "      <td>5.403500</td>\n",
       "      <td>0.0</td>\n",
       "      <td>-4.410200</td>\n",
       "      <td>3.804300</td>\n",
       "      <td>5.403500</td>\n",
       "    </tr>\n",
       "    <tr>\n",
       "      <th>DEL VALLE Y NADA INDIVIDUAL</th>\n",
       "      <td>2.536200</td>\n",
       "      <td>2.5362</td>\n",
       "      <td>1.268100</td>\n",
       "      <td>0.0</td>\n",
       "      <td>0.000000</td>\n",
       "      <td>1.268100</td>\n",
       "      <td>1.268100</td>\n",
       "    </tr>\n",
       "    <tr>\n",
       "      <th>DELAWARE PUNCH INDIVIDUAL</th>\n",
       "      <td>1.268100</td>\n",
       "      <td>0.0000</td>\n",
       "      <td>1.268100</td>\n",
       "      <td>0.0</td>\n",
       "      <td>1.268100</td>\n",
       "      <td>-1.268100</td>\n",
       "      <td>1.268100</td>\n",
       "    </tr>\n",
       "    <tr>\n",
       "      <th>FANTA FAMILIAR</th>\n",
       "      <td>3.522400</td>\n",
       "      <td>0.0000</td>\n",
       "      <td>0.000000</td>\n",
       "      <td>0.0</td>\n",
       "      <td>3.522400</td>\n",
       "      <td>0.000000</td>\n",
       "      <td>0.000000</td>\n",
       "    </tr>\n",
       "    <tr>\n",
       "      <th>FANTA INDIVIDUAL</th>\n",
       "      <td>0.000000</td>\n",
       "      <td>0.0000</td>\n",
       "      <td>2.536200</td>\n",
       "      <td>0.0</td>\n",
       "      <td>0.000000</td>\n",
       "      <td>-2.536200</td>\n",
       "      <td>2.536200</td>\n",
       "    </tr>\n",
       "    <tr>\n",
       "      <th>FRESCA FAMILIAR</th>\n",
       "      <td>7.044800</td>\n",
       "      <td>7.0448</td>\n",
       "      <td>3.522400</td>\n",
       "      <td>0.0</td>\n",
       "      <td>0.000000</td>\n",
       "      <td>3.522400</td>\n",
       "      <td>3.522400</td>\n",
       "    </tr>\n",
       "    <tr>\n",
       "      <th>FRESCA INDIVIDUAL</th>\n",
       "      <td>1.268100</td>\n",
       "      <td>1.2681</td>\n",
       "      <td>0.000000</td>\n",
       "      <td>0.0</td>\n",
       "      <td>0.000000</td>\n",
       "      <td>1.268100</td>\n",
       "      <td>0.000000</td>\n",
       "    </tr>\n",
       "    <tr>\n",
       "      <th>SIDRAL MUNDET INDIVIDUAL</th>\n",
       "      <td>0.000000</td>\n",
       "      <td>1.2681</td>\n",
       "      <td>0.000000</td>\n",
       "      <td>0.0</td>\n",
       "      <td>-1.268100</td>\n",
       "      <td>1.268100</td>\n",
       "      <td>0.000000</td>\n",
       "    </tr>\n",
       "    <tr>\n",
       "      <th>SPRITE FAMILIAR</th>\n",
       "      <td>6.340300</td>\n",
       "      <td>11.2716</td>\n",
       "      <td>6.340300</td>\n",
       "      <td>0.0</td>\n",
       "      <td>-4.931300</td>\n",
       "      <td>4.931300</td>\n",
       "      <td>6.340300</td>\n",
       "    </tr>\n",
       "    <tr>\n",
       "      <th>SPRITE INDIVIDUAL</th>\n",
       "      <td>2.536200</td>\n",
       "      <td>0.0000</td>\n",
       "      <td>0.845400</td>\n",
       "      <td>0.0</td>\n",
       "      <td>2.536200</td>\n",
       "      <td>-0.845400</td>\n",
       "      <td>0.845400</td>\n",
       "    </tr>\n",
       "    <tr>\n",
       "      <th>SPRITE SIN AZÚCAR INDIVIDUAL</th>\n",
       "      <td>1.268100</td>\n",
       "      <td>1.2681</td>\n",
       "      <td>1.268100</td>\n",
       "      <td>0.0</td>\n",
       "      <td>0.000000</td>\n",
       "      <td>0.000000</td>\n",
       "      <td>1.268100</td>\n",
       "    </tr>\n",
       "    <tr>\n",
       "      <th>TOPO CHICO A.M. FAMILIAR</th>\n",
       "      <td>9.510600</td>\n",
       "      <td>6.3404</td>\n",
       "      <td>12.680800</td>\n",
       "      <td>0.0</td>\n",
       "      <td>3.170200</td>\n",
       "      <td>-6.340400</td>\n",
       "      <td>12.680800</td>\n",
       "    </tr>\n",
       "    <tr>\n",
       "      <th>TOPO CHICO A.M. INDIVIDUAL</th>\n",
       "      <td>2.536200</td>\n",
       "      <td>7.7776</td>\n",
       "      <td>8.876700</td>\n",
       "      <td>0.0</td>\n",
       "      <td>-5.241400</td>\n",
       "      <td>-1.099100</td>\n",
       "      <td>8.876700</td>\n",
       "    </tr>\n",
       "    <tr>\n",
       "      <th>VALLE FRUT FAMILIAR</th>\n",
       "      <td>0.000000</td>\n",
       "      <td>2.8179</td>\n",
       "      <td>2.817900</td>\n",
       "      <td>0.0</td>\n",
       "      <td>-2.817900</td>\n",
       "      <td>0.000000</td>\n",
       "      <td>2.817900</td>\n",
       "    </tr>\n",
       "    <tr>\n",
       "      <th>VALLE FRUT INDIVIDUAL</th>\n",
       "      <td>0.000000</td>\n",
       "      <td>1.2681</td>\n",
       "      <td>0.000000</td>\n",
       "      <td>0.0</td>\n",
       "      <td>-1.268100</td>\n",
       "      <td>1.268100</td>\n",
       "      <td>0.000000</td>\n",
       "    </tr>\n",
       "  </tbody>\n",
       "</table>\n",
       "</div>"
      ],
      "text/plain": [
       "                                   Sales18  Sales19    Sales20  Sales21  \\\n",
       "product                                                                   \n",
       "CIEL AGUA PURIFICADA FAMILIAR     3.522400   7.0448   3.522400      0.0   \n",
       "CIEL AGUA PURIFICADA INDIVIDUAL  28.530900  17.3299   6.340200      0.0   \n",
       "CIEL EXPRIM INDIVIDUAL            4.226800   2.1134   0.000000      0.0   \n",
       "COCA-COLA CAFÉ INDIVIDUAL         0.000000   0.2483   0.000000      0.0   \n",
       "COCA-COLA ENERGY INDIVIDUAL       0.248300   0.0000   0.000000      0.0   \n",
       "COCA-COLA FAMILIAR               52.835499  24.3042  58.823599      0.0   \n",
       "COCA-COLA INDIVIDUAL             35.695500  29.0086  33.848400      0.0   \n",
       "COCA-COLA LIGHT FAMILIAR         14.793900  14.0895  14.089500      0.0   \n",
       "COCA-COLA LIGHT INDIVIDUAL        2.536100   5.0299   5.072200      0.0   \n",
       "COCA-COLA SIN AZÚCAR FAMILIAR     7.044800   0.0000   7.044800      0.0   \n",
       "COCA-COLA SIN AZÚCAR INDIVIDUAL   4.797600   9.2078   5.403500      0.0   \n",
       "DEL VALLE Y NADA INDIVIDUAL       2.536200   2.5362   1.268100      0.0   \n",
       "DELAWARE PUNCH INDIVIDUAL         1.268100   0.0000   1.268100      0.0   \n",
       "FANTA FAMILIAR                    3.522400   0.0000   0.000000      0.0   \n",
       "FANTA INDIVIDUAL                  0.000000   0.0000   2.536200      0.0   \n",
       "FRESCA FAMILIAR                   7.044800   7.0448   3.522400      0.0   \n",
       "FRESCA INDIVIDUAL                 1.268100   1.2681   0.000000      0.0   \n",
       "SIDRAL MUNDET INDIVIDUAL          0.000000   1.2681   0.000000      0.0   \n",
       "SPRITE FAMILIAR                   6.340300  11.2716   6.340300      0.0   \n",
       "SPRITE INDIVIDUAL                 2.536200   0.0000   0.845400      0.0   \n",
       "SPRITE SIN AZÚCAR INDIVIDUAL      1.268100   1.2681   1.268100      0.0   \n",
       "TOPO CHICO A.M. FAMILIAR          9.510600   6.3404  12.680800      0.0   \n",
       "TOPO CHICO A.M. INDIVIDUAL        2.536200   7.7776   8.876700      0.0   \n",
       "VALLE FRUT FAMILIAR               0.000000   2.8179   2.817900      0.0   \n",
       "VALLE FRUT INDIVIDUAL             0.000000   1.2681   0.000000      0.0   \n",
       "\n",
       "                                   delta_1    delta_2    delta_3  \n",
       "product                                                           \n",
       "CIEL AGUA PURIFICADA FAMILIAR    -3.522400   3.522400   3.522400  \n",
       "CIEL AGUA PURIFICADA INDIVIDUAL  11.201000  10.989700   6.340200  \n",
       "CIEL EXPRIM INDIVIDUAL            2.113400   2.113400   0.000000  \n",
       "COCA-COLA CAFÉ INDIVIDUAL        -0.248300   0.248300   0.000000  \n",
       "COCA-COLA ENERGY INDIVIDUAL       0.248300   0.000000   0.000000  \n",
       "COCA-COLA FAMILIAR               28.531299 -34.519399  58.823599  \n",
       "COCA-COLA INDIVIDUAL              6.686900  -4.839800  33.848400  \n",
       "COCA-COLA LIGHT FAMILIAR          0.704400   0.000000  14.089500  \n",
       "COCA-COLA LIGHT INDIVIDUAL       -2.493800  -0.042300   5.072200  \n",
       "COCA-COLA SIN AZÚCAR FAMILIAR     7.044800  -7.044800   7.044800  \n",
       "COCA-COLA SIN AZÚCAR INDIVIDUAL  -4.410200   3.804300   5.403500  \n",
       "DEL VALLE Y NADA INDIVIDUAL       0.000000   1.268100   1.268100  \n",
       "DELAWARE PUNCH INDIVIDUAL         1.268100  -1.268100   1.268100  \n",
       "FANTA FAMILIAR                    3.522400   0.000000   0.000000  \n",
       "FANTA INDIVIDUAL                  0.000000  -2.536200   2.536200  \n",
       "FRESCA FAMILIAR                   0.000000   3.522400   3.522400  \n",
       "FRESCA INDIVIDUAL                 0.000000   1.268100   0.000000  \n",
       "SIDRAL MUNDET INDIVIDUAL         -1.268100   1.268100   0.000000  \n",
       "SPRITE FAMILIAR                  -4.931300   4.931300   6.340300  \n",
       "SPRITE INDIVIDUAL                 2.536200  -0.845400   0.845400  \n",
       "SPRITE SIN AZÚCAR INDIVIDUAL      0.000000   0.000000   1.268100  \n",
       "TOPO CHICO A.M. FAMILIAR          3.170200  -6.340400  12.680800  \n",
       "TOPO CHICO A.M. INDIVIDUAL       -5.241400  -1.099100   8.876700  \n",
       "VALLE FRUT FAMILIAR              -2.817900   0.000000   2.817900  \n",
       "VALLE FRUT INDIVIDUAL            -1.268100   1.268100   0.000000  "
      ]
     },
     "execution_count": 39,
     "metadata": {},
     "output_type": "execute_result"
    }
   ],
   "source": [
    "deltas.loc[500000101,:]"
   ]
  },
  {
   "cell_type": "code",
   "execution_count": null,
   "metadata": {},
   "outputs": [],
   "source": []
  }
 ],
 "metadata": {
  "kernelspec": {
   "display_name": "Python 3",
   "language": "python",
   "name": "python3"
  },
  "language_info": {
   "codemirror_mode": {
    "name": "ipython",
    "version": 3
   },
   "file_extension": ".py",
   "mimetype": "text/x-python",
   "name": "python",
   "nbconvert_exporter": "python",
   "pygments_lexer": "ipython3",
   "version": "3.7.6"
  }
 },
 "nbformat": 4,
 "nbformat_minor": 4
}
